{
  "nbformat": 4,
  "nbformat_minor": 0,
  "metadata": {
    "colab": {
      "provenance": [],
      "authorship_tag": "ABX9TyOvw2s5T9w0/N+2ye+MFgUu",
      "include_colab_link": true
    },
    "kernelspec": {
      "name": "python3",
      "display_name": "Python 3"
    },
    "language_info": {
      "name": "python"
    }
  },
  "cells": [
    {
      "cell_type": "markdown",
      "metadata": {
        "id": "view-in-github",
        "colab_type": "text"
      },
      "source": [
        "<a href=\"https://colab.research.google.com/github/rajdepot/probnstats/blob/main/29th_June_2024.ipynb\" target=\"_parent\"><img src=\"https://colab.research.google.com/assets/colab-badge.svg\" alt=\"Open In Colab\"/></a>"
      ]
    },
    {
      "cell_type": "markdown",
      "source": [
        "Problem Overview\n",
        "A cosmetic company, Beauty Boost, is launching a new line of skincare products targeted at teenagers with acne-prone skin. They want to ensure the effectiveness of these products before launching them. They have developed a new acne-clearing gel and are conducting various tests to assess its efficacy.\n",
        "\n",
        "Specific Question\n",
        "Quality assurance tests on previous batches of skincare products have shown that 75% of the time, the products yield satisfactory results in clearing acne. Given a sample of 20 units of the new acne-clearing gel, we need to calculate the theoretical probability that at most 5 units do not yield satisfactory results.\n",
        "\n",
        "Key Points\n",
        "Success Rate: 75% of the products yield satisfactory results (probability of success,\n",
        "𝑝\n",
        "=\n",
        "0.75\n",
        "p=0.75).\n",
        "Sample Size: The sample consists of 20 units (number of trials,\n",
        "𝑛\n",
        "=\n",
        "20\n",
        "n=20).\n",
        "Failures: We need to find the probability that at most 5 units do not yield satisfactory results.\n",
        "Steps to Solve the Problem\n",
        "Identify the Distribution: The problem involves a fixed number of trials (20 units), each with two possible outcomes: yielding satisfactory results (success) or not (failure). This scenario fits a binomial distribution.\n",
        "\n",
        "Define Success and Failure:\n",
        "\n",
        "Success: A unit yields satisfactory results (probability\n",
        "𝑝\n",
        "=\n",
        "0.75\n",
        "p=0.75).\n",
        "Failure: A unit does not yield satisfactory results (probability\n",
        "𝑞\n",
        "=\n",
        "1\n",
        "−\n",
        "𝑝\n",
        "=\n",
        "0.25\n",
        "q=1−p=0.25).\n",
        "Calculate the Desired Probability: We want to find the probability that at most 5 units out of 20 do not yield satisfactory results, which is equivalent to finding\n",
        "𝑃\n",
        "(\n",
        "𝑋\n",
        "≤\n",
        "5\n",
        ")\n",
        "P(X≤5) where\n",
        "𝑋\n",
        "X is the number of failures in 20 trials.\n",
        "\n",
        "Binomial Distribution\n",
        "The probability mass function of a binomial distribution is given by:\n",
        "𝑃\n",
        "(\n",
        "𝑋\n",
        "=\n",
        "𝑘\n",
        ")\n",
        "=\n",
        "(\n",
        "𝑛\n",
        "𝑘\n",
        ")\n",
        "𝑝\n",
        "𝑘\n",
        "(\n",
        "1\n",
        "−\n",
        "𝑝\n",
        ")\n",
        "𝑛\n",
        "−\n",
        "𝑘\n",
        "P(X=k)=(\n",
        "k\n",
        "n\n",
        "​\n",
        " )p\n",
        "k\n",
        " (1−p)\n",
        "n−k\n",
        "\n",
        "\n",
        "Where:\n",
        "\n",
        "𝑛\n",
        "n is the number of trials.\n",
        "𝑘\n",
        "k is the number of successes.\n",
        "𝑝\n",
        "p is the probability of success in each trial.\n",
        "In our case, we sum the probabilities for\n",
        "𝑘\n",
        "k ranging from 0 to 5 (since we are looking for at most 5 failures):\n",
        "𝑃\n",
        "(\n",
        "𝑋\n",
        "≤\n",
        "5\n",
        ")\n",
        "=\n",
        "∑\n",
        "𝑘\n",
        "=\n",
        "0\n",
        "5\n",
        "(\n",
        "20\n",
        "𝑘\n",
        ")\n",
        "(\n",
        "0.25\n",
        ")\n",
        "𝑘\n",
        "(\n",
        "0.75\n",
        ")\n",
        "20\n",
        "−\n",
        "𝑘\n",
        "P(X≤5)=∑\n",
        "k=0\n",
        "5\n",
        "​\n",
        " (\n",
        "k\n",
        "20\n",
        "​\n",
        " )(0.25)\n",
        "k\n",
        " (0.75)\n",
        "20−k\n",
        "\n",
        "\n",
        "Calculation\n",
        "Using statistical tools or software, we can calculate this cumulative probability. Using Python, we computed this using the cumulative distribution function (CDF) of the binomial distribution, which gave us:\n",
        "\n",
        "𝑃\n",
        "(\n",
        "𝑋\n",
        "≤\n",
        "5\n",
        ")\n",
        "≈\n",
        "0.617\n",
        "P(X≤5)≈0.617\n",
        "\n",
        "Conclusion\n",
        "The theoretical probability that at most 5 units out of 20 do not yield satisfactory results is approximately 61.7%. This means there is a 61.7% chance that 5 or fewer of the 20 units tested will not work as expected."
      ],
      "metadata": {
        "id": "oJkdp5DcQuNY"
      }
    },
    {
      "cell_type": "code",
      "execution_count": 1,
      "metadata": {
        "colab": {
          "base_uri": "https://localhost:8080/"
        },
        "id": "iWOo9F5jQgZg",
        "outputId": "f401a9a5-9ebb-4926-dd15-004ede7aa7c4"
      },
      "outputs": [
        {
          "output_type": "execute_result",
          "data": {
            "text/plain": [
              "0.6171726543871046"
            ]
          },
          "metadata": {},
          "execution_count": 1
        }
      ],
      "source": [
        "import scipy.stats as stats\n",
        "\n",
        "# Parameters\n",
        "n = 20\n",
        "p = 0.75\n",
        "k = 5\n",
        "\n",
        "# Calculate the cumulative probability P(X <= 5)\n",
        "cumulative_probability = stats.binom.cdf(k, n, 1-p)\n",
        "cumulative_probability\n"
      ]
    },
    {
      "cell_type": "code",
      "source": [],
      "metadata": {
        "id": "GCS0c7UqQnhk"
      },
      "execution_count": null,
      "outputs": []
    }
  ]
}