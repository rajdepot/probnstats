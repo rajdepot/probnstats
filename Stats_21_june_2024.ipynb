{
  "nbformat": 4,
  "nbformat_minor": 0,
  "metadata": {
    "colab": {
      "provenance": [],
      "authorship_tag": "ABX9TyOKAGHOLviW57lNuWss2xMm",
      "include_colab_link": true
    },
    "kernelspec": {
      "name": "python3",
      "display_name": "Python 3"
    },
    "language_info": {
      "name": "python"
    }
  },
  "cells": [
    {
      "cell_type": "markdown",
      "metadata": {
        "id": "view-in-github",
        "colab_type": "text"
      },
      "source": [
        "<a href=\"https://colab.research.google.com/github/rajdepot/probnstats/blob/main/Stats_21_june_2024.ipynb\" target=\"_parent\"><img src=\"https://colab.research.google.com/assets/colab-badge.svg\" alt=\"Open In Colab\"/></a>"
      ]
    },
    {
      "cell_type": "code",
      "execution_count": 1,
      "metadata": {
        "colab": {
          "base_uri": "https://localhost:8080/"
        },
        "id": "E5WAe46VeBKU",
        "outputId": "c9038200-0f31-4130-8742-5273462c4ec6"
      },
      "outputs": [
        {
          "output_type": "execute_result",
          "data": {
            "text/plain": [
              "(0.5198926783952246, 0.6068313271031527)"
            ]
          },
          "metadata": {},
          "execution_count": 1
        }
      ],
      "source": [
        "import numpy as np\n",
        "from scipy import stats\n",
        "# Commute times for Day 1 and Day 2\n",
        "\n",
        "day_1 = np.array([27, 43, 34, 24, 31, 46, 44, 42, 32, 49, 16, 23, 18, 42, 23, 53, 54, 32, 30, 49, 44, 38, 29, 42, 38, 23, 29, 19, 15, 22, 39, 38])\n",
        "\n",
        "day_2 = np.array([23, 42, 39, 23, 37, 53, 44, 38, 30, 50, 12, 18, 24, 47, 26, 54, 58, 33, 34, 41, 41, 32, 32, 38, 31, 18, 23, 19, 17, 24, 43, 31])\n",
        "\n",
        "# Calculate the differences differences = day_1 - day_2 # Perform the paired t-test\n",
        "t_statistic, p_value = stats.ttest_rel(day_1, day_2)\n",
        "t_statistic, p_value"
      ]
    },
    {
      "cell_type": "code",
      "source": [
        "import numpy as np\n",
        "from scipy import stats\n",
        "# Commute times for Team 1 and Team 2\n",
        "team_1 = np.array([27,43,34,24,31,46,44,42,32,49,16,23,18,42,23,53,54,32,30,49,44,38,29,42,38,23,29,19,15,22,39,38])\n",
        "team_2 = np.array([18,27,64,61,13,33,37,44,58,61,21,31,20,56,52,49,56,40,43,42,58,36,34,57,50,24,64,19,35,59,49,29])\n",
        "# Perform the unpaired t-test\n",
        "t_statistic, p_value = stats.ttest_ind(team_1, team_2, equal_var=False)\n",
        "t_statistic, p_value"
      ],
      "metadata": {
        "colab": {
          "base_uri": "https://localhost:8080/"
        },
        "id": "F-dw3RvoeIgo",
        "outputId": "ecb5e3a1-8495-4186-80a7-de0766dcb4e4"
      },
      "execution_count": 4,
      "outputs": [
        {
          "output_type": "execute_result",
          "data": {
            "text/plain": [
              "(-2.3489766657621147, 0.02235751696827402)"
            ]
          },
          "metadata": {},
          "execution_count": 4
        }
      ]
    },
    {
      "cell_type": "code",
      "source": [
        "## q1\n",
        "import numpy as np\n",
        "from scipy import stats\n",
        "\n",
        "# Heights for Group A and Group B\n",
        "group_a = np.array([160, 162, 165, 170, 175, 160, 158, 167, 169, 173, 166, 174, 171, 172, 160, 163, 161, 168, 164, 159])\n",
        "group_b = np.array([150, 155, 157, 160, 165, 168, 170, 172, 175, 177, 180, 182, 185, 187, 160, 162, 164, 166, 169, 171])\n",
        "\n",
        "# Perform the unpaired t-test\n",
        "\n",
        "t_statistic, p_value = stats.ttest_ind(group_a, group_b, equal_var=False)\n",
        "t_statistic, p_value"
      ],
      "metadata": {
        "colab": {
          "base_uri": "https://localhost:8080/"
        },
        "id": "o3kqDLIViR3f",
        "outputId": "6b08a147-fad0-40e2-dc64-5462edb80713"
      },
      "execution_count": 6,
      "outputs": [
        {
          "output_type": "execute_result",
          "data": {
            "text/plain": [
              "(-1.1292062393725029, 0.2680311673677942)"
            ]
          },
          "metadata": {},
          "execution_count": 6
        }
      ]
    },
    {
      "cell_type": "code",
      "source": [],
      "metadata": {
        "id": "hXl1Els9i4TL"
      },
      "execution_count": null,
      "outputs": []
    }
  ]
}