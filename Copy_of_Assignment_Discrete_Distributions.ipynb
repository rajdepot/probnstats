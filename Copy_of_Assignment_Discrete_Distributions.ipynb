{
  "nbformat": 4,
  "nbformat_minor": 0,
  "metadata": {
    "colab": {
      "provenance": [],
      "include_colab_link": true
    },
    "kernelspec": {
      "name": "python3",
      "display_name": "Python 3"
    }
  },
  "cells": [
    {
      "cell_type": "markdown",
      "metadata": {
        "id": "view-in-github",
        "colab_type": "text"
      },
      "source": [
        "<a href=\"https://colab.research.google.com/github/rajdepot/probnstats/blob/main/Copy_of_Assignment_Discrete_Distributions.ipynb\" target=\"_parent\"><img src=\"https://colab.research.google.com/assets/colab-badge.svg\" alt=\"Open In Colab\"/></a>"
      ]
    },
    {
      "cell_type": "markdown",
      "metadata": {
        "id": "AioAG-n5U_6S"
      },
      "source": [
        "**Complete these problems by hand in a piece of paper and then upload in a text cell.**"
      ]
    },
    {
      "cell_type": "markdown",
      "metadata": {
        "id": "Oq9OIkpjU3hr"
      },
      "source": [
        "# Problem 1"
      ]
    },
    {
      "cell_type": "markdown",
      "metadata": {
        "id": "Z7v307bnPp1s"
      },
      "source": [
        "What is the probability that at least 9 out of a group of 10 people who have been infected by a serious disease will survive, if the survival probability for the disease is 70%?"
      ]
    },
    {
      "cell_type": "code",
      "source": [
        "success = 0.7\n",
        "failure = 0.3\n",
        "n = 10\n",
        "p = 9\n",
        "\n",
        "\n",
        "mean = n*success\n",
        "var = n*success*failure\n",
        "\n",
        "print(\"Mean: \", mean)\n",
        "print(\"Variance: \", var)"
      ],
      "metadata": {
        "id": "kXJswXdrcahH",
        "outputId": "51e51645-7181-4f09-f010-eb62893cb4a1",
        "colab": {
          "base_uri": "https://localhost:8080/"
        }
      },
      "execution_count": null,
      "outputs": [
        {
          "output_type": "stream",
          "name": "stdout",
          "text": [
            "Mean:  7.0\n",
            "Variance:  2.1\n"
          ]
        }
      ]
    },
    {
      "cell_type": "markdown",
      "metadata": {
        "id": "1ECG-HvyQ01v"
      },
      "source": [
        "# Problem 2"
      ]
    },
    {
      "cell_type": "markdown",
      "metadata": {
        "id": "J1wb3oY7P6RM"
      },
      "source": [
        "If the probability of having a male or female child is equal, what is the probability that a\n",
        "woman’s fourth child is her first son?"
      ]
    },
    {
      "cell_type": "code",
      "source": [
        "theta = 0.5\n",
        "n = 4\n",
        "k = 1\n",
        "\n",
        "mean = n*theta\n",
        "var = n*theta*(1-theta)\n",
        "\n",
        "print(\"Mean: \", mean)\n",
        "print(\"Variance: \", var)"
      ],
      "metadata": {
        "id": "vlg6W7HpdBzE",
        "outputId": "df7f936f-d46a-4a17-e1ce-cf43c7a48e35",
        "colab": {
          "base_uri": "https://localhost:8080/"
        }
      },
      "execution_count": null,
      "outputs": [
        {
          "output_type": "stream",
          "name": "stdout",
          "text": [
            "Mean:  2.0\n",
            "Variance:  1.0\n"
          ]
        }
      ]
    },
    {
      "cell_type": "markdown",
      "metadata": {
        "id": "Y7_9sh5XQ2ip"
      },
      "source": [
        "# Problem 3"
      ]
    },
    {
      "cell_type": "markdown",
      "metadata": {
        "id": "Ua9Oo4zckZ8e"
      },
      "source": [
        "If each of the 55 million people in the UK independently has probability $1\\times10^{-8}$ of\n",
        "being killed by a falling meteorite in a given year, calculate the probability of exactly 2\n",
        "such deaths occurring in a given year."
      ]
    },
    {
      "cell_type": "code",
      "source": [
        "chances = 1e-8\n",
        "population = 55e6\n",
        "n = 2\n",
        "\n",
        "mean = population*chances\n",
        "var = population*chances*(1-chances)\n",
        "\n",
        "print(\"Mean: \", mean)\n",
        "print(\"Variance: \", var)"
      ],
      "metadata": {
        "id": "V0GVUubRei_j",
        "outputId": "cea59da2-7883-4e4d-9c1e-98b2f85d2d63",
        "colab": {
          "base_uri": "https://localhost:8080/"
        }
      },
      "execution_count": null,
      "outputs": [
        {
          "output_type": "stream",
          "name": "stdout",
          "text": [
            "Mean:  0.55\n",
            "Variance:  0.5499999945\n"
          ]
        }
      ]
    },
    {
      "cell_type": "markdown",
      "metadata": {
        "id": "qpBaazJwVQTW"
      },
      "source": [
        "# Problem 4"
      ]
    },
    {
      "cell_type": "markdown",
      "metadata": {
        "id": "hN74icc0QFkp"
      },
      "source": [
        "The number of home insurance claims a company receives in a month is distributed as a Poisson random variable with mean 2. Calculate the probability that the company receives exactly 30 claims in a year."
      ]
    },
    {
      "cell_type": "code",
      "source": [
        "import numpy as np"
      ],
      "metadata": {
        "id": "EX68mmLCgUZd"
      },
      "execution_count": null,
      "outputs": []
    },
    {
      "cell_type": "code",
      "source": [
        "lamda = 24\n",
        "n = 30\n",
        "\n",
        "mean = lamda\n",
        "var = lamda\n",
        "\n",
        "print(\"Mean: \", mean)\n",
        "print(\"Variance: \", var)\n",
        "#print(\"probability: \" , 1-np.exp(-lamda))"
      ],
      "metadata": {
        "id": "jorbN47Oft-0",
        "outputId": "1d8ecda7-1ee4-4cd9-dd20-bb0a85ca89a3",
        "colab": {
          "base_uri": "https://localhost:8080/"
        }
      },
      "execution_count": null,
      "outputs": [
        {
          "output_type": "stream",
          "name": "stdout",
          "text": [
            "Mean:  24\n",
            "Variance:  24\n"
          ]
        }
      ]
    },
    {
      "cell_type": "markdown",
      "metadata": {
        "id": "J3WEy97UWZn-"
      },
      "source": [
        "# Problem 5"
      ]
    },
    {
      "cell_type": "markdown",
      "metadata": {
        "id": "IddmKm-CWN77"
      },
      "source": [
        "What is a negative binomial distribution? Write its PDF, mean and variance. (Internet Search)\n",
        "\n"
      ]
    },
    {
      "cell_type": "markdown",
      "metadata": {
        "id": "srFKV49dWlXj"
      },
      "source": [
        "# Problem 6"
      ]
    },
    {
      "cell_type": "markdown",
      "metadata": {
        "id": "xY83neS2WoQn"
      },
      "source": [
        "What is a hypergeometric distribution? Write its PDF, mean and variance. (Internet Search)\n",
        "\n"
      ]
    }
  ]
}