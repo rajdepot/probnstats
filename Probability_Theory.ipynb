{
  "nbformat": 4,
  "nbformat_minor": 0,
  "metadata": {
    "colab": {
      "provenance": [],
      "include_colab_link": true
    },
    "kernelspec": {
      "name": "python3",
      "display_name": "Python 3"
    }
  },
  "cells": [
    {
      "cell_type": "markdown",
      "metadata": {
        "id": "view-in-github",
        "colab_type": "text"
      },
      "source": [
        "<a href=\"https://colab.research.google.com/github/rajdepot/probnstats/blob/main/Probability_Theory.ipynb\" target=\"_parent\"><img src=\"https://colab.research.google.com/assets/colab-badge.svg\" alt=\"Open In Colab\"/></a>"
      ]
    },
    {
      "cell_type": "markdown",
      "metadata": {
        "id": "7h5Z8bgfzD9f"
      },
      "source": [
        "# Set Theory Examples"
      ]
    },
    {
      "cell_type": "code",
      "metadata": {
        "id": "7M1JSONDyaXh"
      },
      "source": [
        "U = {1, 2, 3, 4, 5, 6, 7, 8, 9, 10}"
      ],
      "execution_count": null,
      "outputs": []
    },
    {
      "cell_type": "code",
      "metadata": {
        "id": "dXV7NXDOzMs3"
      },
      "source": [
        "A = {1, 2, 3, 4, 5} # A is a subset of U\n",
        "B = {2, 4, 6, 8, 10}\n",
        "C = {1, 3, 5, 7, 9}"
      ],
      "execution_count": null,
      "outputs": []
    },
    {
      "cell_type": "code",
      "source": [
        "A = {201,202,203,204}\n",
        "B = {201,202,203,205}"
      ],
      "metadata": {
        "id": "-nQI5D6uhPyG"
      },
      "execution_count": null,
      "outputs": []
    },
    {
      "cell_type": "code",
      "metadata": {
        "id": "7DfD_b450XJ6",
        "outputId": "2ab991c7-907f-402b-879c-36b2700afc20",
        "colab": {
          "base_uri": "https://localhost:8080/"
        }
      },
      "source": [
        "print(A.intersection(B))\n",
        "print(B.intersection(A))"
      ],
      "execution_count": null,
      "outputs": [
        {
          "output_type": "stream",
          "name": "stdout",
          "text": [
            "{201, 202, 203}\n",
            "{201, 202, 203}\n"
          ]
        }
      ]
    },
    {
      "cell_type": "markdown",
      "source": [
        "Swiggy:\n",
        "Table 1: Orders.                              Table 2: Transactions\n",
        "cust_id,ord_id,date,pin,status,deliv          ord_id,trans_id,date,status"
      ],
      "metadata": {
        "id": "LgF-iu41aHAc"
      }
    },
    {
      "cell_type": "code",
      "metadata": {
        "id": "5trE8ssm0ZSw",
        "outputId": "a87651c2-e441-4839-90ae-fa83e7a53a07",
        "colab": {
          "base_uri": "https://localhost:8080/"
        }
      },
      "source": [
        "A.union(B)"
      ],
      "execution_count": null,
      "outputs": [
        {
          "output_type": "execute_result",
          "data": {
            "text/plain": [
              "{201, 202, 203, 204, 205}"
            ]
          },
          "metadata": {},
          "execution_count": 7
        }
      ]
    },
    {
      "cell_type": "code",
      "metadata": {
        "id": "runE1vb50mND",
        "outputId": "ac74a105-2465-4182-fa45-92c2c012a305",
        "colab": {
          "base_uri": "https://localhost:8080/"
        }
      },
      "source": [
        "B.union(C)"
      ],
      "execution_count": null,
      "outputs": [
        {
          "output_type": "execute_result",
          "data": {
            "text/plain": [
              "{1, 3, 5, 7, 9, 201, 202, 203, 205}"
            ]
          },
          "metadata": {},
          "execution_count": 8
        }
      ]
    },
    {
      "cell_type": "code",
      "metadata": {
        "id": "AOxvBtWZ0sJl",
        "outputId": "71c3bb05-df43-4ff2-b1c1-3d357e321db5",
        "colab": {
          "base_uri": "https://localhost:8080/"
        }
      },
      "source": [
        "B.intersection(C)"
      ],
      "execution_count": null,
      "outputs": [
        {
          "output_type": "execute_result",
          "data": {
            "text/plain": [
              "set()"
            ]
          },
          "metadata": {},
          "execution_count": 9
        }
      ]
    },
    {
      "cell_type": "code",
      "metadata": {
        "id": "1QhXshk-4J9s",
        "outputId": "14512d46-c5d5-4b5f-f499-c401270a2a15",
        "colab": {
          "base_uri": "https://localhost:8080/"
        }
      },
      "source": [
        "A.intersection(B).intersection(C)"
      ],
      "execution_count": null,
      "outputs": [
        {
          "output_type": "execute_result",
          "data": {
            "text/plain": [
              "set()"
            ]
          },
          "metadata": {},
          "execution_count": 10
        }
      ]
    },
    {
      "cell_type": "markdown",
      "metadata": {
        "id": "FXdFGQoS5uj-"
      },
      "source": [
        "# Counting Examples"
      ]
    },
    {
      "cell_type": "code",
      "source": [
        "n = 7\n",
        "\n",
        "for i in range(1, n+1):\n",
        "  print(i)"
      ],
      "metadata": {
        "id": "amnEmFxYiY_S",
        "outputId": "4ee16126-7347-44b0-815b-d172da01cc06",
        "colab": {
          "base_uri": "https://localhost:8080/"
        }
      },
      "execution_count": null,
      "outputs": [
        {
          "output_type": "stream",
          "name": "stdout",
          "text": [
            "1\n",
            "2\n",
            "3\n",
            "4\n",
            "5\n",
            "6\n",
            "7\n"
          ]
        }
      ]
    },
    {
      "cell_type": "code",
      "metadata": {
        "id": "XJ5GmZfD9p3p"
      },
      "source": [
        "def factorial(n):\n",
        "  f = 1       # f = 2\n",
        "  for i in range(1, n+1):\n",
        "    f = f * i # f * 3\n",
        "  return f"
      ],
      "execution_count": null,
      "outputs": []
    },
    {
      "cell_type": "code",
      "source": [
        "7 * 6 * 5 * 4 * 3 * 2 * 1"
      ],
      "metadata": {
        "id": "5gcNzvFejLyC",
        "outputId": "398cccd7-b0aa-4a0d-8099-a9ae4d592067",
        "colab": {
          "base_uri": "https://localhost:8080/"
        }
      },
      "execution_count": null,
      "outputs": [
        {
          "output_type": "execute_result",
          "data": {
            "text/plain": [
              "5040"
            ]
          },
          "metadata": {},
          "execution_count": 15
        }
      ]
    },
    {
      "cell_type": "code",
      "source": [
        "factorial(7)"
      ],
      "metadata": {
        "id": "GJjU6t1hjIbA",
        "outputId": "f096754d-9369-4d0e-d63c-045e5c6b2aca",
        "colab": {
          "base_uri": "https://localhost:8080/"
        }
      },
      "execution_count": null,
      "outputs": [
        {
          "output_type": "execute_result",
          "data": {
            "text/plain": [
              "5040"
            ]
          },
          "metadata": {},
          "execution_count": 14
        }
      ]
    },
    {
      "cell_type": "code",
      "metadata": {
        "id": "lR56vunE-SIh"
      },
      "source": [
        "def P(n, r):\n",
        "  return int(factorial(n)/factorial(n-r))"
      ],
      "execution_count": null,
      "outputs": []
    },
    {
      "cell_type": "code",
      "metadata": {
        "id": "mpFKkEfC-yqP"
      },
      "source": [
        "def C(n, r):\n",
        "  return int(factorial(n)/(factorial(r) * factorial(n-r)))"
      ],
      "execution_count": null,
      "outputs": []
    },
    {
      "cell_type": "code",
      "metadata": {
        "id": "4Y9aZuEu-7CU",
        "outputId": "f612d244-fde4-4452-a84e-18aeebfce60f",
        "colab": {
          "base_uri": "https://localhost:8080/"
        }
      },
      "source": [
        "C(10, 3)"
      ],
      "execution_count": null,
      "outputs": [
        {
          "output_type": "execute_result",
          "data": {
            "text/plain": [
              "120"
            ]
          },
          "metadata": {},
          "execution_count": 21
        }
      ]
    },
    {
      "cell_type": "code",
      "metadata": {
        "id": "fE6tAGnK_JNO",
        "outputId": "07472fcc-75d0-40be-fb45-3b4ccb422c44",
        "colab": {
          "base_uri": "https://localhost:8080/"
        }
      },
      "source": [
        "P(10, 3)"
      ],
      "execution_count": null,
      "outputs": [
        {
          "output_type": "execute_result",
          "data": {
            "text/plain": [
              "720"
            ]
          },
          "metadata": {},
          "execution_count": 20
        }
      ]
    },
    {
      "cell_type": "code",
      "metadata": {
        "id": "4X28xQIl8meY"
      },
      "source": [
        "from itertools import permutations\n",
        "from itertools import combinations"
      ],
      "execution_count": null,
      "outputs": []
    },
    {
      "cell_type": "code",
      "metadata": {
        "id": "59jtfIA404tM",
        "outputId": "3f60f9d7-225f-4de6-9cf8-40e90da0488b",
        "colab": {
          "base_uri": "https://localhost:8080/"
        }
      },
      "source": [
        "# Get all the permutations\n",
        "seq = permutations(['a','b','c'])\n",
        "\n",
        "for p in list(seq):\n",
        "   print(p)"
      ],
      "execution_count": null,
      "outputs": [
        {
          "output_type": "stream",
          "name": "stdout",
          "text": [
            "('a', 'b', 'c')\n",
            "('a', 'c', 'b')\n",
            "('b', 'a', 'c')\n",
            "('b', 'c', 'a')\n",
            "('c', 'a', 'b')\n",
            "('c', 'b', 'a')\n"
          ]
        }
      ]
    },
    {
      "cell_type": "code",
      "metadata": {
        "id": "OEaaRhF6AVmF",
        "outputId": "b92f5305-9d9d-47fc-d5b3-648afdbfce1a",
        "colab": {
          "base_uri": "https://localhost:8080/"
        }
      },
      "source": [
        "P(3,3)"
      ],
      "execution_count": null,
      "outputs": [
        {
          "output_type": "execute_result",
          "data": {
            "text/plain": [
              "6"
            ]
          },
          "metadata": {},
          "execution_count": 24
        }
      ]
    },
    {
      "cell_type": "code",
      "source": [
        "# Get all the combinations\n",
        "seq = combinations(['a','b','c'],3)\n",
        "\n",
        "for p in list(seq):\n",
        "   print(p)"
      ],
      "metadata": {
        "id": "lHEVZYgWkuAs",
        "outputId": "a0a7ea4a-c273-47fa-a086-e8100a1dee3e",
        "colab": {
          "base_uri": "https://localhost:8080/"
        }
      },
      "execution_count": null,
      "outputs": [
        {
          "output_type": "stream",
          "name": "stdout",
          "text": [
            "('a', 'b', 'c')\n"
          ]
        }
      ]
    },
    {
      "cell_type": "code",
      "metadata": {
        "id": "FdGjz7wg8k6J",
        "outputId": "6c8497c8-9d15-4ba3-c806-57c8e70396eb",
        "colab": {
          "base_uri": "https://localhost:8080/"
        }
      },
      "source": [
        "#Getting all permutations of a particular length.\n",
        "seq = permutations(['a','b', 'c'], 2)\n",
        "\n",
        "for p in list(seq):\n",
        "   print(p)"
      ],
      "execution_count": null,
      "outputs": [
        {
          "output_type": "stream",
          "name": "stdout",
          "text": [
            "('a', 'b')\n",
            "('a', 'c')\n",
            "('b', 'a')\n",
            "('b', 'c')\n",
            "('c', 'a')\n",
            "('c', 'b')\n"
          ]
        }
      ]
    },
    {
      "cell_type": "code",
      "metadata": {
        "id": "ch5UqH3HDKNr",
        "outputId": "3bc96b17-871b-4721-b8dd-2946d736f30e",
        "colab": {
          "base_uri": "https://localhost:8080/"
        }
      },
      "source": [
        "P(3,2)"
      ],
      "execution_count": null,
      "outputs": [
        {
          "output_type": "execute_result",
          "data": {
            "text/plain": [
              "6"
            ]
          },
          "metadata": {},
          "execution_count": 26
        }
      ]
    },
    {
      "cell_type": "code",
      "metadata": {
        "id": "A3KgQxZ6_se6",
        "outputId": "f197e083-202a-440e-d83b-b80b38624b4c",
        "colab": {
          "base_uri": "https://localhost:8080/"
        }
      },
      "source": [
        "# Get all the combinations\n",
        "combi = combinations(['a','b','c', 'd', 'e'], 3)\n",
        "\n",
        "for c in list(combi):\n",
        "   print(c)"
      ],
      "execution_count": null,
      "outputs": [
        {
          "output_type": "stream",
          "name": "stdout",
          "text": [
            "('a', 'b', 'c')\n",
            "('a', 'b', 'd')\n",
            "('a', 'b', 'e')\n",
            "('a', 'c', 'd')\n",
            "('a', 'c', 'e')\n",
            "('a', 'd', 'e')\n",
            "('b', 'c', 'd')\n",
            "('b', 'c', 'e')\n",
            "('b', 'd', 'e')\n",
            "('c', 'd', 'e')\n"
          ]
        }
      ]
    },
    {
      "cell_type": "code",
      "metadata": {
        "id": "2JkCah5tDQLa",
        "outputId": "b8bf4b9b-dff3-4b79-b624-d5d46c286170",
        "colab": {
          "base_uri": "https://localhost:8080/"
        }
      },
      "source": [
        "C(5,3)"
      ],
      "execution_count": null,
      "outputs": [
        {
          "output_type": "execute_result",
          "data": {
            "text/plain": [
              "10"
            ]
          },
          "metadata": {},
          "execution_count": 31
        }
      ]
    },
    {
      "cell_type": "markdown",
      "metadata": {
        "id": "X_e-2Rla1-2s"
      },
      "source": [
        "Students of Cohort Aravali are going to complete a Capstone Project next week. They will be divided in teams of 3. In how many ways can we do this? There are a total of 24 students in the cohort."
      ]
    },
    {
      "cell_type": "code",
      "metadata": {
        "id": "2ZzTmez2D_Da"
      },
      "source": [
        "aravali = {'Akshay', 'Chinmaya', 'Debashish',\n",
        "            'DILAVAR', 'DIVY', 'HRUSHIKESH',\n",
        "            'Isha', 'Kartikey', 'Vaideswar',\n",
        "            'Pranav', 'Mihir', 'Monika',\n",
        "            'SATYA', 'YAGNIK', 'Raj',\n",
        "            'RAJESH', 'Rohan', 'Shashank',\n",
        "            'Soumya', 'Sudhanshu', 'Suraj',\n",
        "            'Sweety', 'Vanshika', 'Nishant'}"
      ],
      "execution_count": null,
      "outputs": []
    },
    {
      "cell_type": "code",
      "metadata": {
        "id": "wYAAJhp_FfO6",
        "outputId": "195e8167-c9fa-4591-8644-2df54affcfdd",
        "colab": {
          "base_uri": "https://localhost:8080/"
        }
      },
      "source": [
        "C(24, 3)"
      ],
      "execution_count": null,
      "outputs": [
        {
          "output_type": "execute_result",
          "data": {
            "text/plain": [
              "2024"
            ]
          },
          "metadata": {},
          "execution_count": 33
        }
      ]
    },
    {
      "cell_type": "code",
      "metadata": {
        "id": "0r1DLhnvFMvZ",
        "outputId": "b0895910-d1f6-4315-e3cd-6e9454a6c242",
        "colab": {
          "base_uri": "https://localhost:8080/"
        }
      },
      "source": [
        "seq = combinations(aravali, 3)\n",
        "\n",
        "for p in list(seq):\n",
        "   print(p)"
      ],
      "execution_count": null,
      "outputs": [
        {
          "output_type": "stream",
          "name": "stdout",
          "text": [
            "('Pranav', 'Nishant', 'Vanshika')\n",
            "('Pranav', 'Nishant', 'Kartikey')\n",
            "('Pranav', 'Nishant', 'RAJESH')\n",
            "('Pranav', 'Nishant', 'Akshay')\n",
            "('Pranav', 'Nishant', 'Monika')\n",
            "('Pranav', 'Nishant', 'Soumya')\n",
            "('Pranav', 'Nishant', 'HRUSHIKESH')\n",
            "('Pranav', 'Nishant', 'Isha')\n",
            "('Pranav', 'Nishant', 'DIVY')\n",
            "('Pranav', 'Nishant', 'Sweety')\n",
            "('Pranav', 'Nishant', 'YAGNIK')\n",
            "('Pranav', 'Nishant', 'Debashish')\n",
            "('Pranav', 'Nishant', 'Rohan')\n",
            "('Pranav', 'Nishant', 'DILAVAR')\n",
            "('Pranav', 'Nishant', 'Chinmaya')\n",
            "('Pranav', 'Nishant', 'SATYA')\n",
            "('Pranav', 'Nishant', 'Mihir')\n",
            "('Pranav', 'Nishant', 'Vaideswar')\n",
            "('Pranav', 'Nishant', 'Suraj')\n",
            "('Pranav', 'Nishant', 'Shashank')\n",
            "('Pranav', 'Nishant', 'Raj')\n",
            "('Pranav', 'Nishant', 'Sudhanshu')\n",
            "('Pranav', 'Vanshika', 'Kartikey')\n",
            "('Pranav', 'Vanshika', 'RAJESH')\n",
            "('Pranav', 'Vanshika', 'Akshay')\n",
            "('Pranav', 'Vanshika', 'Monika')\n",
            "('Pranav', 'Vanshika', 'Soumya')\n",
            "('Pranav', 'Vanshika', 'HRUSHIKESH')\n",
            "('Pranav', 'Vanshika', 'Isha')\n",
            "('Pranav', 'Vanshika', 'DIVY')\n",
            "('Pranav', 'Vanshika', 'Sweety')\n",
            "('Pranav', 'Vanshika', 'YAGNIK')\n",
            "('Pranav', 'Vanshika', 'Debashish')\n",
            "('Pranav', 'Vanshika', 'Rohan')\n",
            "('Pranav', 'Vanshika', 'DILAVAR')\n",
            "('Pranav', 'Vanshika', 'Chinmaya')\n",
            "('Pranav', 'Vanshika', 'SATYA')\n",
            "('Pranav', 'Vanshika', 'Mihir')\n",
            "('Pranav', 'Vanshika', 'Vaideswar')\n",
            "('Pranav', 'Vanshika', 'Suraj')\n",
            "('Pranav', 'Vanshika', 'Shashank')\n",
            "('Pranav', 'Vanshika', 'Raj')\n",
            "('Pranav', 'Vanshika', 'Sudhanshu')\n",
            "('Pranav', 'Kartikey', 'RAJESH')\n",
            "('Pranav', 'Kartikey', 'Akshay')\n",
            "('Pranav', 'Kartikey', 'Monika')\n",
            "('Pranav', 'Kartikey', 'Soumya')\n",
            "('Pranav', 'Kartikey', 'HRUSHIKESH')\n",
            "('Pranav', 'Kartikey', 'Isha')\n",
            "('Pranav', 'Kartikey', 'DIVY')\n",
            "('Pranav', 'Kartikey', 'Sweety')\n",
            "('Pranav', 'Kartikey', 'YAGNIK')\n",
            "('Pranav', 'Kartikey', 'Debashish')\n",
            "('Pranav', 'Kartikey', 'Rohan')\n",
            "('Pranav', 'Kartikey', 'DILAVAR')\n",
            "('Pranav', 'Kartikey', 'Chinmaya')\n",
            "('Pranav', 'Kartikey', 'SATYA')\n",
            "('Pranav', 'Kartikey', 'Mihir')\n",
            "('Pranav', 'Kartikey', 'Vaideswar')\n",
            "('Pranav', 'Kartikey', 'Suraj')\n",
            "('Pranav', 'Kartikey', 'Shashank')\n",
            "('Pranav', 'Kartikey', 'Raj')\n",
            "('Pranav', 'Kartikey', 'Sudhanshu')\n",
            "('Pranav', 'RAJESH', 'Akshay')\n",
            "('Pranav', 'RAJESH', 'Monika')\n",
            "('Pranav', 'RAJESH', 'Soumya')\n",
            "('Pranav', 'RAJESH', 'HRUSHIKESH')\n",
            "('Pranav', 'RAJESH', 'Isha')\n",
            "('Pranav', 'RAJESH', 'DIVY')\n",
            "('Pranav', 'RAJESH', 'Sweety')\n",
            "('Pranav', 'RAJESH', 'YAGNIK')\n",
            "('Pranav', 'RAJESH', 'Debashish')\n",
            "('Pranav', 'RAJESH', 'Rohan')\n",
            "('Pranav', 'RAJESH', 'DILAVAR')\n",
            "('Pranav', 'RAJESH', 'Chinmaya')\n",
            "('Pranav', 'RAJESH', 'SATYA')\n",
            "('Pranav', 'RAJESH', 'Mihir')\n",
            "('Pranav', 'RAJESH', 'Vaideswar')\n",
            "('Pranav', 'RAJESH', 'Suraj')\n",
            "('Pranav', 'RAJESH', 'Shashank')\n",
            "('Pranav', 'RAJESH', 'Raj')\n",
            "('Pranav', 'RAJESH', 'Sudhanshu')\n",
            "('Pranav', 'Akshay', 'Monika')\n",
            "('Pranav', 'Akshay', 'Soumya')\n",
            "('Pranav', 'Akshay', 'HRUSHIKESH')\n",
            "('Pranav', 'Akshay', 'Isha')\n",
            "('Pranav', 'Akshay', 'DIVY')\n",
            "('Pranav', 'Akshay', 'Sweety')\n",
            "('Pranav', 'Akshay', 'YAGNIK')\n",
            "('Pranav', 'Akshay', 'Debashish')\n",
            "('Pranav', 'Akshay', 'Rohan')\n",
            "('Pranav', 'Akshay', 'DILAVAR')\n",
            "('Pranav', 'Akshay', 'Chinmaya')\n",
            "('Pranav', 'Akshay', 'SATYA')\n",
            "('Pranav', 'Akshay', 'Mihir')\n",
            "('Pranav', 'Akshay', 'Vaideswar')\n",
            "('Pranav', 'Akshay', 'Suraj')\n",
            "('Pranav', 'Akshay', 'Shashank')\n",
            "('Pranav', 'Akshay', 'Raj')\n",
            "('Pranav', 'Akshay', 'Sudhanshu')\n",
            "('Pranav', 'Monika', 'Soumya')\n",
            "('Pranav', 'Monika', 'HRUSHIKESH')\n",
            "('Pranav', 'Monika', 'Isha')\n",
            "('Pranav', 'Monika', 'DIVY')\n",
            "('Pranav', 'Monika', 'Sweety')\n",
            "('Pranav', 'Monika', 'YAGNIK')\n",
            "('Pranav', 'Monika', 'Debashish')\n",
            "('Pranav', 'Monika', 'Rohan')\n",
            "('Pranav', 'Monika', 'DILAVAR')\n",
            "('Pranav', 'Monika', 'Chinmaya')\n",
            "('Pranav', 'Monika', 'SATYA')\n",
            "('Pranav', 'Monika', 'Mihir')\n",
            "('Pranav', 'Monika', 'Vaideswar')\n",
            "('Pranav', 'Monika', 'Suraj')\n",
            "('Pranav', 'Monika', 'Shashank')\n",
            "('Pranav', 'Monika', 'Raj')\n",
            "('Pranav', 'Monika', 'Sudhanshu')\n",
            "('Pranav', 'Soumya', 'HRUSHIKESH')\n",
            "('Pranav', 'Soumya', 'Isha')\n",
            "('Pranav', 'Soumya', 'DIVY')\n",
            "('Pranav', 'Soumya', 'Sweety')\n",
            "('Pranav', 'Soumya', 'YAGNIK')\n",
            "('Pranav', 'Soumya', 'Debashish')\n",
            "('Pranav', 'Soumya', 'Rohan')\n",
            "('Pranav', 'Soumya', 'DILAVAR')\n",
            "('Pranav', 'Soumya', 'Chinmaya')\n",
            "('Pranav', 'Soumya', 'SATYA')\n",
            "('Pranav', 'Soumya', 'Mihir')\n",
            "('Pranav', 'Soumya', 'Vaideswar')\n",
            "('Pranav', 'Soumya', 'Suraj')\n",
            "('Pranav', 'Soumya', 'Shashank')\n",
            "('Pranav', 'Soumya', 'Raj')\n",
            "('Pranav', 'Soumya', 'Sudhanshu')\n",
            "('Pranav', 'HRUSHIKESH', 'Isha')\n",
            "('Pranav', 'HRUSHIKESH', 'DIVY')\n",
            "('Pranav', 'HRUSHIKESH', 'Sweety')\n",
            "('Pranav', 'HRUSHIKESH', 'YAGNIK')\n",
            "('Pranav', 'HRUSHIKESH', 'Debashish')\n",
            "('Pranav', 'HRUSHIKESH', 'Rohan')\n",
            "('Pranav', 'HRUSHIKESH', 'DILAVAR')\n",
            "('Pranav', 'HRUSHIKESH', 'Chinmaya')\n",
            "('Pranav', 'HRUSHIKESH', 'SATYA')\n",
            "('Pranav', 'HRUSHIKESH', 'Mihir')\n",
            "('Pranav', 'HRUSHIKESH', 'Vaideswar')\n",
            "('Pranav', 'HRUSHIKESH', 'Suraj')\n",
            "('Pranav', 'HRUSHIKESH', 'Shashank')\n",
            "('Pranav', 'HRUSHIKESH', 'Raj')\n",
            "('Pranav', 'HRUSHIKESH', 'Sudhanshu')\n",
            "('Pranav', 'Isha', 'DIVY')\n",
            "('Pranav', 'Isha', 'Sweety')\n",
            "('Pranav', 'Isha', 'YAGNIK')\n",
            "('Pranav', 'Isha', 'Debashish')\n",
            "('Pranav', 'Isha', 'Rohan')\n",
            "('Pranav', 'Isha', 'DILAVAR')\n",
            "('Pranav', 'Isha', 'Chinmaya')\n",
            "('Pranav', 'Isha', 'SATYA')\n",
            "('Pranav', 'Isha', 'Mihir')\n",
            "('Pranav', 'Isha', 'Vaideswar')\n",
            "('Pranav', 'Isha', 'Suraj')\n",
            "('Pranav', 'Isha', 'Shashank')\n",
            "('Pranav', 'Isha', 'Raj')\n",
            "('Pranav', 'Isha', 'Sudhanshu')\n",
            "('Pranav', 'DIVY', 'Sweety')\n",
            "('Pranav', 'DIVY', 'YAGNIK')\n",
            "('Pranav', 'DIVY', 'Debashish')\n",
            "('Pranav', 'DIVY', 'Rohan')\n",
            "('Pranav', 'DIVY', 'DILAVAR')\n",
            "('Pranav', 'DIVY', 'Chinmaya')\n",
            "('Pranav', 'DIVY', 'SATYA')\n",
            "('Pranav', 'DIVY', 'Mihir')\n",
            "('Pranav', 'DIVY', 'Vaideswar')\n",
            "('Pranav', 'DIVY', 'Suraj')\n",
            "('Pranav', 'DIVY', 'Shashank')\n",
            "('Pranav', 'DIVY', 'Raj')\n",
            "('Pranav', 'DIVY', 'Sudhanshu')\n",
            "('Pranav', 'Sweety', 'YAGNIK')\n",
            "('Pranav', 'Sweety', 'Debashish')\n",
            "('Pranav', 'Sweety', 'Rohan')\n",
            "('Pranav', 'Sweety', 'DILAVAR')\n",
            "('Pranav', 'Sweety', 'Chinmaya')\n",
            "('Pranav', 'Sweety', 'SATYA')\n",
            "('Pranav', 'Sweety', 'Mihir')\n",
            "('Pranav', 'Sweety', 'Vaideswar')\n",
            "('Pranav', 'Sweety', 'Suraj')\n",
            "('Pranav', 'Sweety', 'Shashank')\n",
            "('Pranav', 'Sweety', 'Raj')\n",
            "('Pranav', 'Sweety', 'Sudhanshu')\n",
            "('Pranav', 'YAGNIK', 'Debashish')\n",
            "('Pranav', 'YAGNIK', 'Rohan')\n",
            "('Pranav', 'YAGNIK', 'DILAVAR')\n",
            "('Pranav', 'YAGNIK', 'Chinmaya')\n",
            "('Pranav', 'YAGNIK', 'SATYA')\n",
            "('Pranav', 'YAGNIK', 'Mihir')\n",
            "('Pranav', 'YAGNIK', 'Vaideswar')\n",
            "('Pranav', 'YAGNIK', 'Suraj')\n",
            "('Pranav', 'YAGNIK', 'Shashank')\n",
            "('Pranav', 'YAGNIK', 'Raj')\n",
            "('Pranav', 'YAGNIK', 'Sudhanshu')\n",
            "('Pranav', 'Debashish', 'Rohan')\n",
            "('Pranav', 'Debashish', 'DILAVAR')\n",
            "('Pranav', 'Debashish', 'Chinmaya')\n",
            "('Pranav', 'Debashish', 'SATYA')\n",
            "('Pranav', 'Debashish', 'Mihir')\n",
            "('Pranav', 'Debashish', 'Vaideswar')\n",
            "('Pranav', 'Debashish', 'Suraj')\n",
            "('Pranav', 'Debashish', 'Shashank')\n",
            "('Pranav', 'Debashish', 'Raj')\n",
            "('Pranav', 'Debashish', 'Sudhanshu')\n",
            "('Pranav', 'Rohan', 'DILAVAR')\n",
            "('Pranav', 'Rohan', 'Chinmaya')\n",
            "('Pranav', 'Rohan', 'SATYA')\n",
            "('Pranav', 'Rohan', 'Mihir')\n",
            "('Pranav', 'Rohan', 'Vaideswar')\n",
            "('Pranav', 'Rohan', 'Suraj')\n",
            "('Pranav', 'Rohan', 'Shashank')\n",
            "('Pranav', 'Rohan', 'Raj')\n",
            "('Pranav', 'Rohan', 'Sudhanshu')\n",
            "('Pranav', 'DILAVAR', 'Chinmaya')\n",
            "('Pranav', 'DILAVAR', 'SATYA')\n",
            "('Pranav', 'DILAVAR', 'Mihir')\n",
            "('Pranav', 'DILAVAR', 'Vaideswar')\n",
            "('Pranav', 'DILAVAR', 'Suraj')\n",
            "('Pranav', 'DILAVAR', 'Shashank')\n",
            "('Pranav', 'DILAVAR', 'Raj')\n",
            "('Pranav', 'DILAVAR', 'Sudhanshu')\n",
            "('Pranav', 'Chinmaya', 'SATYA')\n",
            "('Pranav', 'Chinmaya', 'Mihir')\n",
            "('Pranav', 'Chinmaya', 'Vaideswar')\n",
            "('Pranav', 'Chinmaya', 'Suraj')\n",
            "('Pranav', 'Chinmaya', 'Shashank')\n",
            "('Pranav', 'Chinmaya', 'Raj')\n",
            "('Pranav', 'Chinmaya', 'Sudhanshu')\n",
            "('Pranav', 'SATYA', 'Mihir')\n",
            "('Pranav', 'SATYA', 'Vaideswar')\n",
            "('Pranav', 'SATYA', 'Suraj')\n",
            "('Pranav', 'SATYA', 'Shashank')\n",
            "('Pranav', 'SATYA', 'Raj')\n",
            "('Pranav', 'SATYA', 'Sudhanshu')\n",
            "('Pranav', 'Mihir', 'Vaideswar')\n",
            "('Pranav', 'Mihir', 'Suraj')\n",
            "('Pranav', 'Mihir', 'Shashank')\n",
            "('Pranav', 'Mihir', 'Raj')\n",
            "('Pranav', 'Mihir', 'Sudhanshu')\n",
            "('Pranav', 'Vaideswar', 'Suraj')\n",
            "('Pranav', 'Vaideswar', 'Shashank')\n",
            "('Pranav', 'Vaideswar', 'Raj')\n",
            "('Pranav', 'Vaideswar', 'Sudhanshu')\n",
            "('Pranav', 'Suraj', 'Shashank')\n",
            "('Pranav', 'Suraj', 'Raj')\n",
            "('Pranav', 'Suraj', 'Sudhanshu')\n",
            "('Pranav', 'Shashank', 'Raj')\n",
            "('Pranav', 'Shashank', 'Sudhanshu')\n",
            "('Pranav', 'Raj', 'Sudhanshu')\n",
            "('Nishant', 'Vanshika', 'Kartikey')\n",
            "('Nishant', 'Vanshika', 'RAJESH')\n",
            "('Nishant', 'Vanshika', 'Akshay')\n",
            "('Nishant', 'Vanshika', 'Monika')\n",
            "('Nishant', 'Vanshika', 'Soumya')\n",
            "('Nishant', 'Vanshika', 'HRUSHIKESH')\n",
            "('Nishant', 'Vanshika', 'Isha')\n",
            "('Nishant', 'Vanshika', 'DIVY')\n",
            "('Nishant', 'Vanshika', 'Sweety')\n",
            "('Nishant', 'Vanshika', 'YAGNIK')\n",
            "('Nishant', 'Vanshika', 'Debashish')\n",
            "('Nishant', 'Vanshika', 'Rohan')\n",
            "('Nishant', 'Vanshika', 'DILAVAR')\n",
            "('Nishant', 'Vanshika', 'Chinmaya')\n",
            "('Nishant', 'Vanshika', 'SATYA')\n",
            "('Nishant', 'Vanshika', 'Mihir')\n",
            "('Nishant', 'Vanshika', 'Vaideswar')\n",
            "('Nishant', 'Vanshika', 'Suraj')\n",
            "('Nishant', 'Vanshika', 'Shashank')\n",
            "('Nishant', 'Vanshika', 'Raj')\n",
            "('Nishant', 'Vanshika', 'Sudhanshu')\n",
            "('Nishant', 'Kartikey', 'RAJESH')\n",
            "('Nishant', 'Kartikey', 'Akshay')\n",
            "('Nishant', 'Kartikey', 'Monika')\n",
            "('Nishant', 'Kartikey', 'Soumya')\n",
            "('Nishant', 'Kartikey', 'HRUSHIKESH')\n",
            "('Nishant', 'Kartikey', 'Isha')\n",
            "('Nishant', 'Kartikey', 'DIVY')\n",
            "('Nishant', 'Kartikey', 'Sweety')\n",
            "('Nishant', 'Kartikey', 'YAGNIK')\n",
            "('Nishant', 'Kartikey', 'Debashish')\n",
            "('Nishant', 'Kartikey', 'Rohan')\n",
            "('Nishant', 'Kartikey', 'DILAVAR')\n",
            "('Nishant', 'Kartikey', 'Chinmaya')\n",
            "('Nishant', 'Kartikey', 'SATYA')\n",
            "('Nishant', 'Kartikey', 'Mihir')\n",
            "('Nishant', 'Kartikey', 'Vaideswar')\n",
            "('Nishant', 'Kartikey', 'Suraj')\n",
            "('Nishant', 'Kartikey', 'Shashank')\n",
            "('Nishant', 'Kartikey', 'Raj')\n",
            "('Nishant', 'Kartikey', 'Sudhanshu')\n",
            "('Nishant', 'RAJESH', 'Akshay')\n",
            "('Nishant', 'RAJESH', 'Monika')\n",
            "('Nishant', 'RAJESH', 'Soumya')\n",
            "('Nishant', 'RAJESH', 'HRUSHIKESH')\n",
            "('Nishant', 'RAJESH', 'Isha')\n",
            "('Nishant', 'RAJESH', 'DIVY')\n",
            "('Nishant', 'RAJESH', 'Sweety')\n",
            "('Nishant', 'RAJESH', 'YAGNIK')\n",
            "('Nishant', 'RAJESH', 'Debashish')\n",
            "('Nishant', 'RAJESH', 'Rohan')\n",
            "('Nishant', 'RAJESH', 'DILAVAR')\n",
            "('Nishant', 'RAJESH', 'Chinmaya')\n",
            "('Nishant', 'RAJESH', 'SATYA')\n",
            "('Nishant', 'RAJESH', 'Mihir')\n",
            "('Nishant', 'RAJESH', 'Vaideswar')\n",
            "('Nishant', 'RAJESH', 'Suraj')\n",
            "('Nishant', 'RAJESH', 'Shashank')\n",
            "('Nishant', 'RAJESH', 'Raj')\n",
            "('Nishant', 'RAJESH', 'Sudhanshu')\n",
            "('Nishant', 'Akshay', 'Monika')\n",
            "('Nishant', 'Akshay', 'Soumya')\n",
            "('Nishant', 'Akshay', 'HRUSHIKESH')\n",
            "('Nishant', 'Akshay', 'Isha')\n",
            "('Nishant', 'Akshay', 'DIVY')\n",
            "('Nishant', 'Akshay', 'Sweety')\n",
            "('Nishant', 'Akshay', 'YAGNIK')\n",
            "('Nishant', 'Akshay', 'Debashish')\n",
            "('Nishant', 'Akshay', 'Rohan')\n",
            "('Nishant', 'Akshay', 'DILAVAR')\n",
            "('Nishant', 'Akshay', 'Chinmaya')\n",
            "('Nishant', 'Akshay', 'SATYA')\n",
            "('Nishant', 'Akshay', 'Mihir')\n",
            "('Nishant', 'Akshay', 'Vaideswar')\n",
            "('Nishant', 'Akshay', 'Suraj')\n",
            "('Nishant', 'Akshay', 'Shashank')\n",
            "('Nishant', 'Akshay', 'Raj')\n",
            "('Nishant', 'Akshay', 'Sudhanshu')\n",
            "('Nishant', 'Monika', 'Soumya')\n",
            "('Nishant', 'Monika', 'HRUSHIKESH')\n",
            "('Nishant', 'Monika', 'Isha')\n",
            "('Nishant', 'Monika', 'DIVY')\n",
            "('Nishant', 'Monika', 'Sweety')\n",
            "('Nishant', 'Monika', 'YAGNIK')\n",
            "('Nishant', 'Monika', 'Debashish')\n",
            "('Nishant', 'Monika', 'Rohan')\n",
            "('Nishant', 'Monika', 'DILAVAR')\n",
            "('Nishant', 'Monika', 'Chinmaya')\n",
            "('Nishant', 'Monika', 'SATYA')\n",
            "('Nishant', 'Monika', 'Mihir')\n",
            "('Nishant', 'Monika', 'Vaideswar')\n",
            "('Nishant', 'Monika', 'Suraj')\n",
            "('Nishant', 'Monika', 'Shashank')\n",
            "('Nishant', 'Monika', 'Raj')\n",
            "('Nishant', 'Monika', 'Sudhanshu')\n",
            "('Nishant', 'Soumya', 'HRUSHIKESH')\n",
            "('Nishant', 'Soumya', 'Isha')\n",
            "('Nishant', 'Soumya', 'DIVY')\n",
            "('Nishant', 'Soumya', 'Sweety')\n",
            "('Nishant', 'Soumya', 'YAGNIK')\n",
            "('Nishant', 'Soumya', 'Debashish')\n",
            "('Nishant', 'Soumya', 'Rohan')\n",
            "('Nishant', 'Soumya', 'DILAVAR')\n",
            "('Nishant', 'Soumya', 'Chinmaya')\n",
            "('Nishant', 'Soumya', 'SATYA')\n",
            "('Nishant', 'Soumya', 'Mihir')\n",
            "('Nishant', 'Soumya', 'Vaideswar')\n",
            "('Nishant', 'Soumya', 'Suraj')\n",
            "('Nishant', 'Soumya', 'Shashank')\n",
            "('Nishant', 'Soumya', 'Raj')\n",
            "('Nishant', 'Soumya', 'Sudhanshu')\n",
            "('Nishant', 'HRUSHIKESH', 'Isha')\n",
            "('Nishant', 'HRUSHIKESH', 'DIVY')\n",
            "('Nishant', 'HRUSHIKESH', 'Sweety')\n",
            "('Nishant', 'HRUSHIKESH', 'YAGNIK')\n",
            "('Nishant', 'HRUSHIKESH', 'Debashish')\n",
            "('Nishant', 'HRUSHIKESH', 'Rohan')\n",
            "('Nishant', 'HRUSHIKESH', 'DILAVAR')\n",
            "('Nishant', 'HRUSHIKESH', 'Chinmaya')\n",
            "('Nishant', 'HRUSHIKESH', 'SATYA')\n",
            "('Nishant', 'HRUSHIKESH', 'Mihir')\n",
            "('Nishant', 'HRUSHIKESH', 'Vaideswar')\n",
            "('Nishant', 'HRUSHIKESH', 'Suraj')\n",
            "('Nishant', 'HRUSHIKESH', 'Shashank')\n",
            "('Nishant', 'HRUSHIKESH', 'Raj')\n",
            "('Nishant', 'HRUSHIKESH', 'Sudhanshu')\n",
            "('Nishant', 'Isha', 'DIVY')\n",
            "('Nishant', 'Isha', 'Sweety')\n",
            "('Nishant', 'Isha', 'YAGNIK')\n",
            "('Nishant', 'Isha', 'Debashish')\n",
            "('Nishant', 'Isha', 'Rohan')\n",
            "('Nishant', 'Isha', 'DILAVAR')\n",
            "('Nishant', 'Isha', 'Chinmaya')\n",
            "('Nishant', 'Isha', 'SATYA')\n",
            "('Nishant', 'Isha', 'Mihir')\n",
            "('Nishant', 'Isha', 'Vaideswar')\n",
            "('Nishant', 'Isha', 'Suraj')\n",
            "('Nishant', 'Isha', 'Shashank')\n",
            "('Nishant', 'Isha', 'Raj')\n",
            "('Nishant', 'Isha', 'Sudhanshu')\n",
            "('Nishant', 'DIVY', 'Sweety')\n",
            "('Nishant', 'DIVY', 'YAGNIK')\n",
            "('Nishant', 'DIVY', 'Debashish')\n",
            "('Nishant', 'DIVY', 'Rohan')\n",
            "('Nishant', 'DIVY', 'DILAVAR')\n",
            "('Nishant', 'DIVY', 'Chinmaya')\n",
            "('Nishant', 'DIVY', 'SATYA')\n",
            "('Nishant', 'DIVY', 'Mihir')\n",
            "('Nishant', 'DIVY', 'Vaideswar')\n",
            "('Nishant', 'DIVY', 'Suraj')\n",
            "('Nishant', 'DIVY', 'Shashank')\n",
            "('Nishant', 'DIVY', 'Raj')\n",
            "('Nishant', 'DIVY', 'Sudhanshu')\n",
            "('Nishant', 'Sweety', 'YAGNIK')\n",
            "('Nishant', 'Sweety', 'Debashish')\n",
            "('Nishant', 'Sweety', 'Rohan')\n",
            "('Nishant', 'Sweety', 'DILAVAR')\n",
            "('Nishant', 'Sweety', 'Chinmaya')\n",
            "('Nishant', 'Sweety', 'SATYA')\n",
            "('Nishant', 'Sweety', 'Mihir')\n",
            "('Nishant', 'Sweety', 'Vaideswar')\n",
            "('Nishant', 'Sweety', 'Suraj')\n",
            "('Nishant', 'Sweety', 'Shashank')\n",
            "('Nishant', 'Sweety', 'Raj')\n",
            "('Nishant', 'Sweety', 'Sudhanshu')\n",
            "('Nishant', 'YAGNIK', 'Debashish')\n",
            "('Nishant', 'YAGNIK', 'Rohan')\n",
            "('Nishant', 'YAGNIK', 'DILAVAR')\n",
            "('Nishant', 'YAGNIK', 'Chinmaya')\n",
            "('Nishant', 'YAGNIK', 'SATYA')\n",
            "('Nishant', 'YAGNIK', 'Mihir')\n",
            "('Nishant', 'YAGNIK', 'Vaideswar')\n",
            "('Nishant', 'YAGNIK', 'Suraj')\n",
            "('Nishant', 'YAGNIK', 'Shashank')\n",
            "('Nishant', 'YAGNIK', 'Raj')\n",
            "('Nishant', 'YAGNIK', 'Sudhanshu')\n",
            "('Nishant', 'Debashish', 'Rohan')\n",
            "('Nishant', 'Debashish', 'DILAVAR')\n",
            "('Nishant', 'Debashish', 'Chinmaya')\n",
            "('Nishant', 'Debashish', 'SATYA')\n",
            "('Nishant', 'Debashish', 'Mihir')\n",
            "('Nishant', 'Debashish', 'Vaideswar')\n",
            "('Nishant', 'Debashish', 'Suraj')\n",
            "('Nishant', 'Debashish', 'Shashank')\n",
            "('Nishant', 'Debashish', 'Raj')\n",
            "('Nishant', 'Debashish', 'Sudhanshu')\n",
            "('Nishant', 'Rohan', 'DILAVAR')\n",
            "('Nishant', 'Rohan', 'Chinmaya')\n",
            "('Nishant', 'Rohan', 'SATYA')\n",
            "('Nishant', 'Rohan', 'Mihir')\n",
            "('Nishant', 'Rohan', 'Vaideswar')\n",
            "('Nishant', 'Rohan', 'Suraj')\n",
            "('Nishant', 'Rohan', 'Shashank')\n",
            "('Nishant', 'Rohan', 'Raj')\n",
            "('Nishant', 'Rohan', 'Sudhanshu')\n",
            "('Nishant', 'DILAVAR', 'Chinmaya')\n",
            "('Nishant', 'DILAVAR', 'SATYA')\n",
            "('Nishant', 'DILAVAR', 'Mihir')\n",
            "('Nishant', 'DILAVAR', 'Vaideswar')\n",
            "('Nishant', 'DILAVAR', 'Suraj')\n",
            "('Nishant', 'DILAVAR', 'Shashank')\n",
            "('Nishant', 'DILAVAR', 'Raj')\n",
            "('Nishant', 'DILAVAR', 'Sudhanshu')\n",
            "('Nishant', 'Chinmaya', 'SATYA')\n",
            "('Nishant', 'Chinmaya', 'Mihir')\n",
            "('Nishant', 'Chinmaya', 'Vaideswar')\n",
            "('Nishant', 'Chinmaya', 'Suraj')\n",
            "('Nishant', 'Chinmaya', 'Shashank')\n",
            "('Nishant', 'Chinmaya', 'Raj')\n",
            "('Nishant', 'Chinmaya', 'Sudhanshu')\n",
            "('Nishant', 'SATYA', 'Mihir')\n",
            "('Nishant', 'SATYA', 'Vaideswar')\n",
            "('Nishant', 'SATYA', 'Suraj')\n",
            "('Nishant', 'SATYA', 'Shashank')\n",
            "('Nishant', 'SATYA', 'Raj')\n",
            "('Nishant', 'SATYA', 'Sudhanshu')\n",
            "('Nishant', 'Mihir', 'Vaideswar')\n",
            "('Nishant', 'Mihir', 'Suraj')\n",
            "('Nishant', 'Mihir', 'Shashank')\n",
            "('Nishant', 'Mihir', 'Raj')\n",
            "('Nishant', 'Mihir', 'Sudhanshu')\n",
            "('Nishant', 'Vaideswar', 'Suraj')\n",
            "('Nishant', 'Vaideswar', 'Shashank')\n",
            "('Nishant', 'Vaideswar', 'Raj')\n",
            "('Nishant', 'Vaideswar', 'Sudhanshu')\n",
            "('Nishant', 'Suraj', 'Shashank')\n",
            "('Nishant', 'Suraj', 'Raj')\n",
            "('Nishant', 'Suraj', 'Sudhanshu')\n",
            "('Nishant', 'Shashank', 'Raj')\n",
            "('Nishant', 'Shashank', 'Sudhanshu')\n",
            "('Nishant', 'Raj', 'Sudhanshu')\n",
            "('Vanshika', 'Kartikey', 'RAJESH')\n",
            "('Vanshika', 'Kartikey', 'Akshay')\n",
            "('Vanshika', 'Kartikey', 'Monika')\n",
            "('Vanshika', 'Kartikey', 'Soumya')\n",
            "('Vanshika', 'Kartikey', 'HRUSHIKESH')\n",
            "('Vanshika', 'Kartikey', 'Isha')\n",
            "('Vanshika', 'Kartikey', 'DIVY')\n",
            "('Vanshika', 'Kartikey', 'Sweety')\n",
            "('Vanshika', 'Kartikey', 'YAGNIK')\n",
            "('Vanshika', 'Kartikey', 'Debashish')\n",
            "('Vanshika', 'Kartikey', 'Rohan')\n",
            "('Vanshika', 'Kartikey', 'DILAVAR')\n",
            "('Vanshika', 'Kartikey', 'Chinmaya')\n",
            "('Vanshika', 'Kartikey', 'SATYA')\n",
            "('Vanshika', 'Kartikey', 'Mihir')\n",
            "('Vanshika', 'Kartikey', 'Vaideswar')\n",
            "('Vanshika', 'Kartikey', 'Suraj')\n",
            "('Vanshika', 'Kartikey', 'Shashank')\n",
            "('Vanshika', 'Kartikey', 'Raj')\n",
            "('Vanshika', 'Kartikey', 'Sudhanshu')\n",
            "('Vanshika', 'RAJESH', 'Akshay')\n",
            "('Vanshika', 'RAJESH', 'Monika')\n",
            "('Vanshika', 'RAJESH', 'Soumya')\n",
            "('Vanshika', 'RAJESH', 'HRUSHIKESH')\n",
            "('Vanshika', 'RAJESH', 'Isha')\n",
            "('Vanshika', 'RAJESH', 'DIVY')\n",
            "('Vanshika', 'RAJESH', 'Sweety')\n",
            "('Vanshika', 'RAJESH', 'YAGNIK')\n",
            "('Vanshika', 'RAJESH', 'Debashish')\n",
            "('Vanshika', 'RAJESH', 'Rohan')\n",
            "('Vanshika', 'RAJESH', 'DILAVAR')\n",
            "('Vanshika', 'RAJESH', 'Chinmaya')\n",
            "('Vanshika', 'RAJESH', 'SATYA')\n",
            "('Vanshika', 'RAJESH', 'Mihir')\n",
            "('Vanshika', 'RAJESH', 'Vaideswar')\n",
            "('Vanshika', 'RAJESH', 'Suraj')\n",
            "('Vanshika', 'RAJESH', 'Shashank')\n",
            "('Vanshika', 'RAJESH', 'Raj')\n",
            "('Vanshika', 'RAJESH', 'Sudhanshu')\n",
            "('Vanshika', 'Akshay', 'Monika')\n",
            "('Vanshika', 'Akshay', 'Soumya')\n",
            "('Vanshika', 'Akshay', 'HRUSHIKESH')\n",
            "('Vanshika', 'Akshay', 'Isha')\n",
            "('Vanshika', 'Akshay', 'DIVY')\n",
            "('Vanshika', 'Akshay', 'Sweety')\n",
            "('Vanshika', 'Akshay', 'YAGNIK')\n",
            "('Vanshika', 'Akshay', 'Debashish')\n",
            "('Vanshika', 'Akshay', 'Rohan')\n",
            "('Vanshika', 'Akshay', 'DILAVAR')\n",
            "('Vanshika', 'Akshay', 'Chinmaya')\n",
            "('Vanshika', 'Akshay', 'SATYA')\n",
            "('Vanshika', 'Akshay', 'Mihir')\n",
            "('Vanshika', 'Akshay', 'Vaideswar')\n",
            "('Vanshika', 'Akshay', 'Suraj')\n",
            "('Vanshika', 'Akshay', 'Shashank')\n",
            "('Vanshika', 'Akshay', 'Raj')\n",
            "('Vanshika', 'Akshay', 'Sudhanshu')\n",
            "('Vanshika', 'Monika', 'Soumya')\n",
            "('Vanshika', 'Monika', 'HRUSHIKESH')\n",
            "('Vanshika', 'Monika', 'Isha')\n",
            "('Vanshika', 'Monika', 'DIVY')\n",
            "('Vanshika', 'Monika', 'Sweety')\n",
            "('Vanshika', 'Monika', 'YAGNIK')\n",
            "('Vanshika', 'Monika', 'Debashish')\n",
            "('Vanshika', 'Monika', 'Rohan')\n",
            "('Vanshika', 'Monika', 'DILAVAR')\n",
            "('Vanshika', 'Monika', 'Chinmaya')\n",
            "('Vanshika', 'Monika', 'SATYA')\n",
            "('Vanshika', 'Monika', 'Mihir')\n",
            "('Vanshika', 'Monika', 'Vaideswar')\n",
            "('Vanshika', 'Monika', 'Suraj')\n",
            "('Vanshika', 'Monika', 'Shashank')\n",
            "('Vanshika', 'Monika', 'Raj')\n",
            "('Vanshika', 'Monika', 'Sudhanshu')\n",
            "('Vanshika', 'Soumya', 'HRUSHIKESH')\n",
            "('Vanshika', 'Soumya', 'Isha')\n",
            "('Vanshika', 'Soumya', 'DIVY')\n",
            "('Vanshika', 'Soumya', 'Sweety')\n",
            "('Vanshika', 'Soumya', 'YAGNIK')\n",
            "('Vanshika', 'Soumya', 'Debashish')\n",
            "('Vanshika', 'Soumya', 'Rohan')\n",
            "('Vanshika', 'Soumya', 'DILAVAR')\n",
            "('Vanshika', 'Soumya', 'Chinmaya')\n",
            "('Vanshika', 'Soumya', 'SATYA')\n",
            "('Vanshika', 'Soumya', 'Mihir')\n",
            "('Vanshika', 'Soumya', 'Vaideswar')\n",
            "('Vanshika', 'Soumya', 'Suraj')\n",
            "('Vanshika', 'Soumya', 'Shashank')\n",
            "('Vanshika', 'Soumya', 'Raj')\n",
            "('Vanshika', 'Soumya', 'Sudhanshu')\n",
            "('Vanshika', 'HRUSHIKESH', 'Isha')\n",
            "('Vanshika', 'HRUSHIKESH', 'DIVY')\n",
            "('Vanshika', 'HRUSHIKESH', 'Sweety')\n",
            "('Vanshika', 'HRUSHIKESH', 'YAGNIK')\n",
            "('Vanshika', 'HRUSHIKESH', 'Debashish')\n",
            "('Vanshika', 'HRUSHIKESH', 'Rohan')\n",
            "('Vanshika', 'HRUSHIKESH', 'DILAVAR')\n",
            "('Vanshika', 'HRUSHIKESH', 'Chinmaya')\n",
            "('Vanshika', 'HRUSHIKESH', 'SATYA')\n",
            "('Vanshika', 'HRUSHIKESH', 'Mihir')\n",
            "('Vanshika', 'HRUSHIKESH', 'Vaideswar')\n",
            "('Vanshika', 'HRUSHIKESH', 'Suraj')\n",
            "('Vanshika', 'HRUSHIKESH', 'Shashank')\n",
            "('Vanshika', 'HRUSHIKESH', 'Raj')\n",
            "('Vanshika', 'HRUSHIKESH', 'Sudhanshu')\n",
            "('Vanshika', 'Isha', 'DIVY')\n",
            "('Vanshika', 'Isha', 'Sweety')\n",
            "('Vanshika', 'Isha', 'YAGNIK')\n",
            "('Vanshika', 'Isha', 'Debashish')\n",
            "('Vanshika', 'Isha', 'Rohan')\n",
            "('Vanshika', 'Isha', 'DILAVAR')\n",
            "('Vanshika', 'Isha', 'Chinmaya')\n",
            "('Vanshika', 'Isha', 'SATYA')\n",
            "('Vanshika', 'Isha', 'Mihir')\n",
            "('Vanshika', 'Isha', 'Vaideswar')\n",
            "('Vanshika', 'Isha', 'Suraj')\n",
            "('Vanshika', 'Isha', 'Shashank')\n",
            "('Vanshika', 'Isha', 'Raj')\n",
            "('Vanshika', 'Isha', 'Sudhanshu')\n",
            "('Vanshika', 'DIVY', 'Sweety')\n",
            "('Vanshika', 'DIVY', 'YAGNIK')\n",
            "('Vanshika', 'DIVY', 'Debashish')\n",
            "('Vanshika', 'DIVY', 'Rohan')\n",
            "('Vanshika', 'DIVY', 'DILAVAR')\n",
            "('Vanshika', 'DIVY', 'Chinmaya')\n",
            "('Vanshika', 'DIVY', 'SATYA')\n",
            "('Vanshika', 'DIVY', 'Mihir')\n",
            "('Vanshika', 'DIVY', 'Vaideswar')\n",
            "('Vanshika', 'DIVY', 'Suraj')\n",
            "('Vanshika', 'DIVY', 'Shashank')\n",
            "('Vanshika', 'DIVY', 'Raj')\n",
            "('Vanshika', 'DIVY', 'Sudhanshu')\n",
            "('Vanshika', 'Sweety', 'YAGNIK')\n",
            "('Vanshika', 'Sweety', 'Debashish')\n",
            "('Vanshika', 'Sweety', 'Rohan')\n",
            "('Vanshika', 'Sweety', 'DILAVAR')\n",
            "('Vanshika', 'Sweety', 'Chinmaya')\n",
            "('Vanshika', 'Sweety', 'SATYA')\n",
            "('Vanshika', 'Sweety', 'Mihir')\n",
            "('Vanshika', 'Sweety', 'Vaideswar')\n",
            "('Vanshika', 'Sweety', 'Suraj')\n",
            "('Vanshika', 'Sweety', 'Shashank')\n",
            "('Vanshika', 'Sweety', 'Raj')\n",
            "('Vanshika', 'Sweety', 'Sudhanshu')\n",
            "('Vanshika', 'YAGNIK', 'Debashish')\n",
            "('Vanshika', 'YAGNIK', 'Rohan')\n",
            "('Vanshika', 'YAGNIK', 'DILAVAR')\n",
            "('Vanshika', 'YAGNIK', 'Chinmaya')\n",
            "('Vanshika', 'YAGNIK', 'SATYA')\n",
            "('Vanshika', 'YAGNIK', 'Mihir')\n",
            "('Vanshika', 'YAGNIK', 'Vaideswar')\n",
            "('Vanshika', 'YAGNIK', 'Suraj')\n",
            "('Vanshika', 'YAGNIK', 'Shashank')\n",
            "('Vanshika', 'YAGNIK', 'Raj')\n",
            "('Vanshika', 'YAGNIK', 'Sudhanshu')\n",
            "('Vanshika', 'Debashish', 'Rohan')\n",
            "('Vanshika', 'Debashish', 'DILAVAR')\n",
            "('Vanshika', 'Debashish', 'Chinmaya')\n",
            "('Vanshika', 'Debashish', 'SATYA')\n",
            "('Vanshika', 'Debashish', 'Mihir')\n",
            "('Vanshika', 'Debashish', 'Vaideswar')\n",
            "('Vanshika', 'Debashish', 'Suraj')\n",
            "('Vanshika', 'Debashish', 'Shashank')\n",
            "('Vanshika', 'Debashish', 'Raj')\n",
            "('Vanshika', 'Debashish', 'Sudhanshu')\n",
            "('Vanshika', 'Rohan', 'DILAVAR')\n",
            "('Vanshika', 'Rohan', 'Chinmaya')\n",
            "('Vanshika', 'Rohan', 'SATYA')\n",
            "('Vanshika', 'Rohan', 'Mihir')\n",
            "('Vanshika', 'Rohan', 'Vaideswar')\n",
            "('Vanshika', 'Rohan', 'Suraj')\n",
            "('Vanshika', 'Rohan', 'Shashank')\n",
            "('Vanshika', 'Rohan', 'Raj')\n",
            "('Vanshika', 'Rohan', 'Sudhanshu')\n",
            "('Vanshika', 'DILAVAR', 'Chinmaya')\n",
            "('Vanshika', 'DILAVAR', 'SATYA')\n",
            "('Vanshika', 'DILAVAR', 'Mihir')\n",
            "('Vanshika', 'DILAVAR', 'Vaideswar')\n",
            "('Vanshika', 'DILAVAR', 'Suraj')\n",
            "('Vanshika', 'DILAVAR', 'Shashank')\n",
            "('Vanshika', 'DILAVAR', 'Raj')\n",
            "('Vanshika', 'DILAVAR', 'Sudhanshu')\n",
            "('Vanshika', 'Chinmaya', 'SATYA')\n",
            "('Vanshika', 'Chinmaya', 'Mihir')\n",
            "('Vanshika', 'Chinmaya', 'Vaideswar')\n",
            "('Vanshika', 'Chinmaya', 'Suraj')\n",
            "('Vanshika', 'Chinmaya', 'Shashank')\n",
            "('Vanshika', 'Chinmaya', 'Raj')\n",
            "('Vanshika', 'Chinmaya', 'Sudhanshu')\n",
            "('Vanshika', 'SATYA', 'Mihir')\n",
            "('Vanshika', 'SATYA', 'Vaideswar')\n",
            "('Vanshika', 'SATYA', 'Suraj')\n",
            "('Vanshika', 'SATYA', 'Shashank')\n",
            "('Vanshika', 'SATYA', 'Raj')\n",
            "('Vanshika', 'SATYA', 'Sudhanshu')\n",
            "('Vanshika', 'Mihir', 'Vaideswar')\n",
            "('Vanshika', 'Mihir', 'Suraj')\n",
            "('Vanshika', 'Mihir', 'Shashank')\n",
            "('Vanshika', 'Mihir', 'Raj')\n",
            "('Vanshika', 'Mihir', 'Sudhanshu')\n",
            "('Vanshika', 'Vaideswar', 'Suraj')\n",
            "('Vanshika', 'Vaideswar', 'Shashank')\n",
            "('Vanshika', 'Vaideswar', 'Raj')\n",
            "('Vanshika', 'Vaideswar', 'Sudhanshu')\n",
            "('Vanshika', 'Suraj', 'Shashank')\n",
            "('Vanshika', 'Suraj', 'Raj')\n",
            "('Vanshika', 'Suraj', 'Sudhanshu')\n",
            "('Vanshika', 'Shashank', 'Raj')\n",
            "('Vanshika', 'Shashank', 'Sudhanshu')\n",
            "('Vanshika', 'Raj', 'Sudhanshu')\n",
            "('Kartikey', 'RAJESH', 'Akshay')\n",
            "('Kartikey', 'RAJESH', 'Monika')\n",
            "('Kartikey', 'RAJESH', 'Soumya')\n",
            "('Kartikey', 'RAJESH', 'HRUSHIKESH')\n",
            "('Kartikey', 'RAJESH', 'Isha')\n",
            "('Kartikey', 'RAJESH', 'DIVY')\n",
            "('Kartikey', 'RAJESH', 'Sweety')\n",
            "('Kartikey', 'RAJESH', 'YAGNIK')\n",
            "('Kartikey', 'RAJESH', 'Debashish')\n",
            "('Kartikey', 'RAJESH', 'Rohan')\n",
            "('Kartikey', 'RAJESH', 'DILAVAR')\n",
            "('Kartikey', 'RAJESH', 'Chinmaya')\n",
            "('Kartikey', 'RAJESH', 'SATYA')\n",
            "('Kartikey', 'RAJESH', 'Mihir')\n",
            "('Kartikey', 'RAJESH', 'Vaideswar')\n",
            "('Kartikey', 'RAJESH', 'Suraj')\n",
            "('Kartikey', 'RAJESH', 'Shashank')\n",
            "('Kartikey', 'RAJESH', 'Raj')\n",
            "('Kartikey', 'RAJESH', 'Sudhanshu')\n",
            "('Kartikey', 'Akshay', 'Monika')\n",
            "('Kartikey', 'Akshay', 'Soumya')\n",
            "('Kartikey', 'Akshay', 'HRUSHIKESH')\n",
            "('Kartikey', 'Akshay', 'Isha')\n",
            "('Kartikey', 'Akshay', 'DIVY')\n",
            "('Kartikey', 'Akshay', 'Sweety')\n",
            "('Kartikey', 'Akshay', 'YAGNIK')\n",
            "('Kartikey', 'Akshay', 'Debashish')\n",
            "('Kartikey', 'Akshay', 'Rohan')\n",
            "('Kartikey', 'Akshay', 'DILAVAR')\n",
            "('Kartikey', 'Akshay', 'Chinmaya')\n",
            "('Kartikey', 'Akshay', 'SATYA')\n",
            "('Kartikey', 'Akshay', 'Mihir')\n",
            "('Kartikey', 'Akshay', 'Vaideswar')\n",
            "('Kartikey', 'Akshay', 'Suraj')\n",
            "('Kartikey', 'Akshay', 'Shashank')\n",
            "('Kartikey', 'Akshay', 'Raj')\n",
            "('Kartikey', 'Akshay', 'Sudhanshu')\n",
            "('Kartikey', 'Monika', 'Soumya')\n",
            "('Kartikey', 'Monika', 'HRUSHIKESH')\n",
            "('Kartikey', 'Monika', 'Isha')\n",
            "('Kartikey', 'Monika', 'DIVY')\n",
            "('Kartikey', 'Monika', 'Sweety')\n",
            "('Kartikey', 'Monika', 'YAGNIK')\n",
            "('Kartikey', 'Monika', 'Debashish')\n",
            "('Kartikey', 'Monika', 'Rohan')\n",
            "('Kartikey', 'Monika', 'DILAVAR')\n",
            "('Kartikey', 'Monika', 'Chinmaya')\n",
            "('Kartikey', 'Monika', 'SATYA')\n",
            "('Kartikey', 'Monika', 'Mihir')\n",
            "('Kartikey', 'Monika', 'Vaideswar')\n",
            "('Kartikey', 'Monika', 'Suraj')\n",
            "('Kartikey', 'Monika', 'Shashank')\n",
            "('Kartikey', 'Monika', 'Raj')\n",
            "('Kartikey', 'Monika', 'Sudhanshu')\n",
            "('Kartikey', 'Soumya', 'HRUSHIKESH')\n",
            "('Kartikey', 'Soumya', 'Isha')\n",
            "('Kartikey', 'Soumya', 'DIVY')\n",
            "('Kartikey', 'Soumya', 'Sweety')\n",
            "('Kartikey', 'Soumya', 'YAGNIK')\n",
            "('Kartikey', 'Soumya', 'Debashish')\n",
            "('Kartikey', 'Soumya', 'Rohan')\n",
            "('Kartikey', 'Soumya', 'DILAVAR')\n",
            "('Kartikey', 'Soumya', 'Chinmaya')\n",
            "('Kartikey', 'Soumya', 'SATYA')\n",
            "('Kartikey', 'Soumya', 'Mihir')\n",
            "('Kartikey', 'Soumya', 'Vaideswar')\n",
            "('Kartikey', 'Soumya', 'Suraj')\n",
            "('Kartikey', 'Soumya', 'Shashank')\n",
            "('Kartikey', 'Soumya', 'Raj')\n",
            "('Kartikey', 'Soumya', 'Sudhanshu')\n",
            "('Kartikey', 'HRUSHIKESH', 'Isha')\n",
            "('Kartikey', 'HRUSHIKESH', 'DIVY')\n",
            "('Kartikey', 'HRUSHIKESH', 'Sweety')\n",
            "('Kartikey', 'HRUSHIKESH', 'YAGNIK')\n",
            "('Kartikey', 'HRUSHIKESH', 'Debashish')\n",
            "('Kartikey', 'HRUSHIKESH', 'Rohan')\n",
            "('Kartikey', 'HRUSHIKESH', 'DILAVAR')\n",
            "('Kartikey', 'HRUSHIKESH', 'Chinmaya')\n",
            "('Kartikey', 'HRUSHIKESH', 'SATYA')\n",
            "('Kartikey', 'HRUSHIKESH', 'Mihir')\n",
            "('Kartikey', 'HRUSHIKESH', 'Vaideswar')\n",
            "('Kartikey', 'HRUSHIKESH', 'Suraj')\n",
            "('Kartikey', 'HRUSHIKESH', 'Shashank')\n",
            "('Kartikey', 'HRUSHIKESH', 'Raj')\n",
            "('Kartikey', 'HRUSHIKESH', 'Sudhanshu')\n",
            "('Kartikey', 'Isha', 'DIVY')\n",
            "('Kartikey', 'Isha', 'Sweety')\n",
            "('Kartikey', 'Isha', 'YAGNIK')\n",
            "('Kartikey', 'Isha', 'Debashish')\n",
            "('Kartikey', 'Isha', 'Rohan')\n",
            "('Kartikey', 'Isha', 'DILAVAR')\n",
            "('Kartikey', 'Isha', 'Chinmaya')\n",
            "('Kartikey', 'Isha', 'SATYA')\n",
            "('Kartikey', 'Isha', 'Mihir')\n",
            "('Kartikey', 'Isha', 'Vaideswar')\n",
            "('Kartikey', 'Isha', 'Suraj')\n",
            "('Kartikey', 'Isha', 'Shashank')\n",
            "('Kartikey', 'Isha', 'Raj')\n",
            "('Kartikey', 'Isha', 'Sudhanshu')\n",
            "('Kartikey', 'DIVY', 'Sweety')\n",
            "('Kartikey', 'DIVY', 'YAGNIK')\n",
            "('Kartikey', 'DIVY', 'Debashish')\n",
            "('Kartikey', 'DIVY', 'Rohan')\n",
            "('Kartikey', 'DIVY', 'DILAVAR')\n",
            "('Kartikey', 'DIVY', 'Chinmaya')\n",
            "('Kartikey', 'DIVY', 'SATYA')\n",
            "('Kartikey', 'DIVY', 'Mihir')\n",
            "('Kartikey', 'DIVY', 'Vaideswar')\n",
            "('Kartikey', 'DIVY', 'Suraj')\n",
            "('Kartikey', 'DIVY', 'Shashank')\n",
            "('Kartikey', 'DIVY', 'Raj')\n",
            "('Kartikey', 'DIVY', 'Sudhanshu')\n",
            "('Kartikey', 'Sweety', 'YAGNIK')\n",
            "('Kartikey', 'Sweety', 'Debashish')\n",
            "('Kartikey', 'Sweety', 'Rohan')\n",
            "('Kartikey', 'Sweety', 'DILAVAR')\n",
            "('Kartikey', 'Sweety', 'Chinmaya')\n",
            "('Kartikey', 'Sweety', 'SATYA')\n",
            "('Kartikey', 'Sweety', 'Mihir')\n",
            "('Kartikey', 'Sweety', 'Vaideswar')\n",
            "('Kartikey', 'Sweety', 'Suraj')\n",
            "('Kartikey', 'Sweety', 'Shashank')\n",
            "('Kartikey', 'Sweety', 'Raj')\n",
            "('Kartikey', 'Sweety', 'Sudhanshu')\n",
            "('Kartikey', 'YAGNIK', 'Debashish')\n",
            "('Kartikey', 'YAGNIK', 'Rohan')\n",
            "('Kartikey', 'YAGNIK', 'DILAVAR')\n",
            "('Kartikey', 'YAGNIK', 'Chinmaya')\n",
            "('Kartikey', 'YAGNIK', 'SATYA')\n",
            "('Kartikey', 'YAGNIK', 'Mihir')\n",
            "('Kartikey', 'YAGNIK', 'Vaideswar')\n",
            "('Kartikey', 'YAGNIK', 'Suraj')\n",
            "('Kartikey', 'YAGNIK', 'Shashank')\n",
            "('Kartikey', 'YAGNIK', 'Raj')\n",
            "('Kartikey', 'YAGNIK', 'Sudhanshu')\n",
            "('Kartikey', 'Debashish', 'Rohan')\n",
            "('Kartikey', 'Debashish', 'DILAVAR')\n",
            "('Kartikey', 'Debashish', 'Chinmaya')\n",
            "('Kartikey', 'Debashish', 'SATYA')\n",
            "('Kartikey', 'Debashish', 'Mihir')\n",
            "('Kartikey', 'Debashish', 'Vaideswar')\n",
            "('Kartikey', 'Debashish', 'Suraj')\n",
            "('Kartikey', 'Debashish', 'Shashank')\n",
            "('Kartikey', 'Debashish', 'Raj')\n",
            "('Kartikey', 'Debashish', 'Sudhanshu')\n",
            "('Kartikey', 'Rohan', 'DILAVAR')\n",
            "('Kartikey', 'Rohan', 'Chinmaya')\n",
            "('Kartikey', 'Rohan', 'SATYA')\n",
            "('Kartikey', 'Rohan', 'Mihir')\n",
            "('Kartikey', 'Rohan', 'Vaideswar')\n",
            "('Kartikey', 'Rohan', 'Suraj')\n",
            "('Kartikey', 'Rohan', 'Shashank')\n",
            "('Kartikey', 'Rohan', 'Raj')\n",
            "('Kartikey', 'Rohan', 'Sudhanshu')\n",
            "('Kartikey', 'DILAVAR', 'Chinmaya')\n",
            "('Kartikey', 'DILAVAR', 'SATYA')\n",
            "('Kartikey', 'DILAVAR', 'Mihir')\n",
            "('Kartikey', 'DILAVAR', 'Vaideswar')\n",
            "('Kartikey', 'DILAVAR', 'Suraj')\n",
            "('Kartikey', 'DILAVAR', 'Shashank')\n",
            "('Kartikey', 'DILAVAR', 'Raj')\n",
            "('Kartikey', 'DILAVAR', 'Sudhanshu')\n",
            "('Kartikey', 'Chinmaya', 'SATYA')\n",
            "('Kartikey', 'Chinmaya', 'Mihir')\n",
            "('Kartikey', 'Chinmaya', 'Vaideswar')\n",
            "('Kartikey', 'Chinmaya', 'Suraj')\n",
            "('Kartikey', 'Chinmaya', 'Shashank')\n",
            "('Kartikey', 'Chinmaya', 'Raj')\n",
            "('Kartikey', 'Chinmaya', 'Sudhanshu')\n",
            "('Kartikey', 'SATYA', 'Mihir')\n",
            "('Kartikey', 'SATYA', 'Vaideswar')\n",
            "('Kartikey', 'SATYA', 'Suraj')\n",
            "('Kartikey', 'SATYA', 'Shashank')\n",
            "('Kartikey', 'SATYA', 'Raj')\n",
            "('Kartikey', 'SATYA', 'Sudhanshu')\n",
            "('Kartikey', 'Mihir', 'Vaideswar')\n",
            "('Kartikey', 'Mihir', 'Suraj')\n",
            "('Kartikey', 'Mihir', 'Shashank')\n",
            "('Kartikey', 'Mihir', 'Raj')\n",
            "('Kartikey', 'Mihir', 'Sudhanshu')\n",
            "('Kartikey', 'Vaideswar', 'Suraj')\n",
            "('Kartikey', 'Vaideswar', 'Shashank')\n",
            "('Kartikey', 'Vaideswar', 'Raj')\n",
            "('Kartikey', 'Vaideswar', 'Sudhanshu')\n",
            "('Kartikey', 'Suraj', 'Shashank')\n",
            "('Kartikey', 'Suraj', 'Raj')\n",
            "('Kartikey', 'Suraj', 'Sudhanshu')\n",
            "('Kartikey', 'Shashank', 'Raj')\n",
            "('Kartikey', 'Shashank', 'Sudhanshu')\n",
            "('Kartikey', 'Raj', 'Sudhanshu')\n",
            "('RAJESH', 'Akshay', 'Monika')\n",
            "('RAJESH', 'Akshay', 'Soumya')\n",
            "('RAJESH', 'Akshay', 'HRUSHIKESH')\n",
            "('RAJESH', 'Akshay', 'Isha')\n",
            "('RAJESH', 'Akshay', 'DIVY')\n",
            "('RAJESH', 'Akshay', 'Sweety')\n",
            "('RAJESH', 'Akshay', 'YAGNIK')\n",
            "('RAJESH', 'Akshay', 'Debashish')\n",
            "('RAJESH', 'Akshay', 'Rohan')\n",
            "('RAJESH', 'Akshay', 'DILAVAR')\n",
            "('RAJESH', 'Akshay', 'Chinmaya')\n",
            "('RAJESH', 'Akshay', 'SATYA')\n",
            "('RAJESH', 'Akshay', 'Mihir')\n",
            "('RAJESH', 'Akshay', 'Vaideswar')\n",
            "('RAJESH', 'Akshay', 'Suraj')\n",
            "('RAJESH', 'Akshay', 'Shashank')\n",
            "('RAJESH', 'Akshay', 'Raj')\n",
            "('RAJESH', 'Akshay', 'Sudhanshu')\n",
            "('RAJESH', 'Monika', 'Soumya')\n",
            "('RAJESH', 'Monika', 'HRUSHIKESH')\n",
            "('RAJESH', 'Monika', 'Isha')\n",
            "('RAJESH', 'Monika', 'DIVY')\n",
            "('RAJESH', 'Monika', 'Sweety')\n",
            "('RAJESH', 'Monika', 'YAGNIK')\n",
            "('RAJESH', 'Monika', 'Debashish')\n",
            "('RAJESH', 'Monika', 'Rohan')\n",
            "('RAJESH', 'Monika', 'DILAVAR')\n",
            "('RAJESH', 'Monika', 'Chinmaya')\n",
            "('RAJESH', 'Monika', 'SATYA')\n",
            "('RAJESH', 'Monika', 'Mihir')\n",
            "('RAJESH', 'Monika', 'Vaideswar')\n",
            "('RAJESH', 'Monika', 'Suraj')\n",
            "('RAJESH', 'Monika', 'Shashank')\n",
            "('RAJESH', 'Monika', 'Raj')\n",
            "('RAJESH', 'Monika', 'Sudhanshu')\n",
            "('RAJESH', 'Soumya', 'HRUSHIKESH')\n",
            "('RAJESH', 'Soumya', 'Isha')\n",
            "('RAJESH', 'Soumya', 'DIVY')\n",
            "('RAJESH', 'Soumya', 'Sweety')\n",
            "('RAJESH', 'Soumya', 'YAGNIK')\n",
            "('RAJESH', 'Soumya', 'Debashish')\n",
            "('RAJESH', 'Soumya', 'Rohan')\n",
            "('RAJESH', 'Soumya', 'DILAVAR')\n",
            "('RAJESH', 'Soumya', 'Chinmaya')\n",
            "('RAJESH', 'Soumya', 'SATYA')\n",
            "('RAJESH', 'Soumya', 'Mihir')\n",
            "('RAJESH', 'Soumya', 'Vaideswar')\n",
            "('RAJESH', 'Soumya', 'Suraj')\n",
            "('RAJESH', 'Soumya', 'Shashank')\n",
            "('RAJESH', 'Soumya', 'Raj')\n",
            "('RAJESH', 'Soumya', 'Sudhanshu')\n",
            "('RAJESH', 'HRUSHIKESH', 'Isha')\n",
            "('RAJESH', 'HRUSHIKESH', 'DIVY')\n",
            "('RAJESH', 'HRUSHIKESH', 'Sweety')\n",
            "('RAJESH', 'HRUSHIKESH', 'YAGNIK')\n",
            "('RAJESH', 'HRUSHIKESH', 'Debashish')\n",
            "('RAJESH', 'HRUSHIKESH', 'Rohan')\n",
            "('RAJESH', 'HRUSHIKESH', 'DILAVAR')\n",
            "('RAJESH', 'HRUSHIKESH', 'Chinmaya')\n",
            "('RAJESH', 'HRUSHIKESH', 'SATYA')\n",
            "('RAJESH', 'HRUSHIKESH', 'Mihir')\n",
            "('RAJESH', 'HRUSHIKESH', 'Vaideswar')\n",
            "('RAJESH', 'HRUSHIKESH', 'Suraj')\n",
            "('RAJESH', 'HRUSHIKESH', 'Shashank')\n",
            "('RAJESH', 'HRUSHIKESH', 'Raj')\n",
            "('RAJESH', 'HRUSHIKESH', 'Sudhanshu')\n",
            "('RAJESH', 'Isha', 'DIVY')\n",
            "('RAJESH', 'Isha', 'Sweety')\n",
            "('RAJESH', 'Isha', 'YAGNIK')\n",
            "('RAJESH', 'Isha', 'Debashish')\n",
            "('RAJESH', 'Isha', 'Rohan')\n",
            "('RAJESH', 'Isha', 'DILAVAR')\n",
            "('RAJESH', 'Isha', 'Chinmaya')\n",
            "('RAJESH', 'Isha', 'SATYA')\n",
            "('RAJESH', 'Isha', 'Mihir')\n",
            "('RAJESH', 'Isha', 'Vaideswar')\n",
            "('RAJESH', 'Isha', 'Suraj')\n",
            "('RAJESH', 'Isha', 'Shashank')\n",
            "('RAJESH', 'Isha', 'Raj')\n",
            "('RAJESH', 'Isha', 'Sudhanshu')\n",
            "('RAJESH', 'DIVY', 'Sweety')\n",
            "('RAJESH', 'DIVY', 'YAGNIK')\n",
            "('RAJESH', 'DIVY', 'Debashish')\n",
            "('RAJESH', 'DIVY', 'Rohan')\n",
            "('RAJESH', 'DIVY', 'DILAVAR')\n",
            "('RAJESH', 'DIVY', 'Chinmaya')\n",
            "('RAJESH', 'DIVY', 'SATYA')\n",
            "('RAJESH', 'DIVY', 'Mihir')\n",
            "('RAJESH', 'DIVY', 'Vaideswar')\n",
            "('RAJESH', 'DIVY', 'Suraj')\n",
            "('RAJESH', 'DIVY', 'Shashank')\n",
            "('RAJESH', 'DIVY', 'Raj')\n",
            "('RAJESH', 'DIVY', 'Sudhanshu')\n",
            "('RAJESH', 'Sweety', 'YAGNIK')\n",
            "('RAJESH', 'Sweety', 'Debashish')\n",
            "('RAJESH', 'Sweety', 'Rohan')\n",
            "('RAJESH', 'Sweety', 'DILAVAR')\n",
            "('RAJESH', 'Sweety', 'Chinmaya')\n",
            "('RAJESH', 'Sweety', 'SATYA')\n",
            "('RAJESH', 'Sweety', 'Mihir')\n",
            "('RAJESH', 'Sweety', 'Vaideswar')\n",
            "('RAJESH', 'Sweety', 'Suraj')\n",
            "('RAJESH', 'Sweety', 'Shashank')\n",
            "('RAJESH', 'Sweety', 'Raj')\n",
            "('RAJESH', 'Sweety', 'Sudhanshu')\n",
            "('RAJESH', 'YAGNIK', 'Debashish')\n",
            "('RAJESH', 'YAGNIK', 'Rohan')\n",
            "('RAJESH', 'YAGNIK', 'DILAVAR')\n",
            "('RAJESH', 'YAGNIK', 'Chinmaya')\n",
            "('RAJESH', 'YAGNIK', 'SATYA')\n",
            "('RAJESH', 'YAGNIK', 'Mihir')\n",
            "('RAJESH', 'YAGNIK', 'Vaideswar')\n",
            "('RAJESH', 'YAGNIK', 'Suraj')\n",
            "('RAJESH', 'YAGNIK', 'Shashank')\n",
            "('RAJESH', 'YAGNIK', 'Raj')\n",
            "('RAJESH', 'YAGNIK', 'Sudhanshu')\n",
            "('RAJESH', 'Debashish', 'Rohan')\n",
            "('RAJESH', 'Debashish', 'DILAVAR')\n",
            "('RAJESH', 'Debashish', 'Chinmaya')\n",
            "('RAJESH', 'Debashish', 'SATYA')\n",
            "('RAJESH', 'Debashish', 'Mihir')\n",
            "('RAJESH', 'Debashish', 'Vaideswar')\n",
            "('RAJESH', 'Debashish', 'Suraj')\n",
            "('RAJESH', 'Debashish', 'Shashank')\n",
            "('RAJESH', 'Debashish', 'Raj')\n",
            "('RAJESH', 'Debashish', 'Sudhanshu')\n",
            "('RAJESH', 'Rohan', 'DILAVAR')\n",
            "('RAJESH', 'Rohan', 'Chinmaya')\n",
            "('RAJESH', 'Rohan', 'SATYA')\n",
            "('RAJESH', 'Rohan', 'Mihir')\n",
            "('RAJESH', 'Rohan', 'Vaideswar')\n",
            "('RAJESH', 'Rohan', 'Suraj')\n",
            "('RAJESH', 'Rohan', 'Shashank')\n",
            "('RAJESH', 'Rohan', 'Raj')\n",
            "('RAJESH', 'Rohan', 'Sudhanshu')\n",
            "('RAJESH', 'DILAVAR', 'Chinmaya')\n",
            "('RAJESH', 'DILAVAR', 'SATYA')\n",
            "('RAJESH', 'DILAVAR', 'Mihir')\n",
            "('RAJESH', 'DILAVAR', 'Vaideswar')\n",
            "('RAJESH', 'DILAVAR', 'Suraj')\n",
            "('RAJESH', 'DILAVAR', 'Shashank')\n",
            "('RAJESH', 'DILAVAR', 'Raj')\n",
            "('RAJESH', 'DILAVAR', 'Sudhanshu')\n",
            "('RAJESH', 'Chinmaya', 'SATYA')\n",
            "('RAJESH', 'Chinmaya', 'Mihir')\n",
            "('RAJESH', 'Chinmaya', 'Vaideswar')\n",
            "('RAJESH', 'Chinmaya', 'Suraj')\n",
            "('RAJESH', 'Chinmaya', 'Shashank')\n",
            "('RAJESH', 'Chinmaya', 'Raj')\n",
            "('RAJESH', 'Chinmaya', 'Sudhanshu')\n",
            "('RAJESH', 'SATYA', 'Mihir')\n",
            "('RAJESH', 'SATYA', 'Vaideswar')\n",
            "('RAJESH', 'SATYA', 'Suraj')\n",
            "('RAJESH', 'SATYA', 'Shashank')\n",
            "('RAJESH', 'SATYA', 'Raj')\n",
            "('RAJESH', 'SATYA', 'Sudhanshu')\n",
            "('RAJESH', 'Mihir', 'Vaideswar')\n",
            "('RAJESH', 'Mihir', 'Suraj')\n",
            "('RAJESH', 'Mihir', 'Shashank')\n",
            "('RAJESH', 'Mihir', 'Raj')\n",
            "('RAJESH', 'Mihir', 'Sudhanshu')\n",
            "('RAJESH', 'Vaideswar', 'Suraj')\n",
            "('RAJESH', 'Vaideswar', 'Shashank')\n",
            "('RAJESH', 'Vaideswar', 'Raj')\n",
            "('RAJESH', 'Vaideswar', 'Sudhanshu')\n",
            "('RAJESH', 'Suraj', 'Shashank')\n",
            "('RAJESH', 'Suraj', 'Raj')\n",
            "('RAJESH', 'Suraj', 'Sudhanshu')\n",
            "('RAJESH', 'Shashank', 'Raj')\n",
            "('RAJESH', 'Shashank', 'Sudhanshu')\n",
            "('RAJESH', 'Raj', 'Sudhanshu')\n",
            "('Akshay', 'Monika', 'Soumya')\n",
            "('Akshay', 'Monika', 'HRUSHIKESH')\n",
            "('Akshay', 'Monika', 'Isha')\n",
            "('Akshay', 'Monika', 'DIVY')\n",
            "('Akshay', 'Monika', 'Sweety')\n",
            "('Akshay', 'Monika', 'YAGNIK')\n",
            "('Akshay', 'Monika', 'Debashish')\n",
            "('Akshay', 'Monika', 'Rohan')\n",
            "('Akshay', 'Monika', 'DILAVAR')\n",
            "('Akshay', 'Monika', 'Chinmaya')\n",
            "('Akshay', 'Monika', 'SATYA')\n",
            "('Akshay', 'Monika', 'Mihir')\n",
            "('Akshay', 'Monika', 'Vaideswar')\n",
            "('Akshay', 'Monika', 'Suraj')\n",
            "('Akshay', 'Monika', 'Shashank')\n",
            "('Akshay', 'Monika', 'Raj')\n",
            "('Akshay', 'Monika', 'Sudhanshu')\n",
            "('Akshay', 'Soumya', 'HRUSHIKESH')\n",
            "('Akshay', 'Soumya', 'Isha')\n",
            "('Akshay', 'Soumya', 'DIVY')\n",
            "('Akshay', 'Soumya', 'Sweety')\n",
            "('Akshay', 'Soumya', 'YAGNIK')\n",
            "('Akshay', 'Soumya', 'Debashish')\n",
            "('Akshay', 'Soumya', 'Rohan')\n",
            "('Akshay', 'Soumya', 'DILAVAR')\n",
            "('Akshay', 'Soumya', 'Chinmaya')\n",
            "('Akshay', 'Soumya', 'SATYA')\n",
            "('Akshay', 'Soumya', 'Mihir')\n",
            "('Akshay', 'Soumya', 'Vaideswar')\n",
            "('Akshay', 'Soumya', 'Suraj')\n",
            "('Akshay', 'Soumya', 'Shashank')\n",
            "('Akshay', 'Soumya', 'Raj')\n",
            "('Akshay', 'Soumya', 'Sudhanshu')\n",
            "('Akshay', 'HRUSHIKESH', 'Isha')\n",
            "('Akshay', 'HRUSHIKESH', 'DIVY')\n",
            "('Akshay', 'HRUSHIKESH', 'Sweety')\n",
            "('Akshay', 'HRUSHIKESH', 'YAGNIK')\n",
            "('Akshay', 'HRUSHIKESH', 'Debashish')\n",
            "('Akshay', 'HRUSHIKESH', 'Rohan')\n",
            "('Akshay', 'HRUSHIKESH', 'DILAVAR')\n",
            "('Akshay', 'HRUSHIKESH', 'Chinmaya')\n",
            "('Akshay', 'HRUSHIKESH', 'SATYA')\n",
            "('Akshay', 'HRUSHIKESH', 'Mihir')\n",
            "('Akshay', 'HRUSHIKESH', 'Vaideswar')\n",
            "('Akshay', 'HRUSHIKESH', 'Suraj')\n",
            "('Akshay', 'HRUSHIKESH', 'Shashank')\n",
            "('Akshay', 'HRUSHIKESH', 'Raj')\n",
            "('Akshay', 'HRUSHIKESH', 'Sudhanshu')\n",
            "('Akshay', 'Isha', 'DIVY')\n",
            "('Akshay', 'Isha', 'Sweety')\n",
            "('Akshay', 'Isha', 'YAGNIK')\n",
            "('Akshay', 'Isha', 'Debashish')\n",
            "('Akshay', 'Isha', 'Rohan')\n",
            "('Akshay', 'Isha', 'DILAVAR')\n",
            "('Akshay', 'Isha', 'Chinmaya')\n",
            "('Akshay', 'Isha', 'SATYA')\n",
            "('Akshay', 'Isha', 'Mihir')\n",
            "('Akshay', 'Isha', 'Vaideswar')\n",
            "('Akshay', 'Isha', 'Suraj')\n",
            "('Akshay', 'Isha', 'Shashank')\n",
            "('Akshay', 'Isha', 'Raj')\n",
            "('Akshay', 'Isha', 'Sudhanshu')\n",
            "('Akshay', 'DIVY', 'Sweety')\n",
            "('Akshay', 'DIVY', 'YAGNIK')\n",
            "('Akshay', 'DIVY', 'Debashish')\n",
            "('Akshay', 'DIVY', 'Rohan')\n",
            "('Akshay', 'DIVY', 'DILAVAR')\n",
            "('Akshay', 'DIVY', 'Chinmaya')\n",
            "('Akshay', 'DIVY', 'SATYA')\n",
            "('Akshay', 'DIVY', 'Mihir')\n",
            "('Akshay', 'DIVY', 'Vaideswar')\n",
            "('Akshay', 'DIVY', 'Suraj')\n",
            "('Akshay', 'DIVY', 'Shashank')\n",
            "('Akshay', 'DIVY', 'Raj')\n",
            "('Akshay', 'DIVY', 'Sudhanshu')\n",
            "('Akshay', 'Sweety', 'YAGNIK')\n",
            "('Akshay', 'Sweety', 'Debashish')\n",
            "('Akshay', 'Sweety', 'Rohan')\n",
            "('Akshay', 'Sweety', 'DILAVAR')\n",
            "('Akshay', 'Sweety', 'Chinmaya')\n",
            "('Akshay', 'Sweety', 'SATYA')\n",
            "('Akshay', 'Sweety', 'Mihir')\n",
            "('Akshay', 'Sweety', 'Vaideswar')\n",
            "('Akshay', 'Sweety', 'Suraj')\n",
            "('Akshay', 'Sweety', 'Shashank')\n",
            "('Akshay', 'Sweety', 'Raj')\n",
            "('Akshay', 'Sweety', 'Sudhanshu')\n",
            "('Akshay', 'YAGNIK', 'Debashish')\n",
            "('Akshay', 'YAGNIK', 'Rohan')\n",
            "('Akshay', 'YAGNIK', 'DILAVAR')\n",
            "('Akshay', 'YAGNIK', 'Chinmaya')\n",
            "('Akshay', 'YAGNIK', 'SATYA')\n",
            "('Akshay', 'YAGNIK', 'Mihir')\n",
            "('Akshay', 'YAGNIK', 'Vaideswar')\n",
            "('Akshay', 'YAGNIK', 'Suraj')\n",
            "('Akshay', 'YAGNIK', 'Shashank')\n",
            "('Akshay', 'YAGNIK', 'Raj')\n",
            "('Akshay', 'YAGNIK', 'Sudhanshu')\n",
            "('Akshay', 'Debashish', 'Rohan')\n",
            "('Akshay', 'Debashish', 'DILAVAR')\n",
            "('Akshay', 'Debashish', 'Chinmaya')\n",
            "('Akshay', 'Debashish', 'SATYA')\n",
            "('Akshay', 'Debashish', 'Mihir')\n",
            "('Akshay', 'Debashish', 'Vaideswar')\n",
            "('Akshay', 'Debashish', 'Suraj')\n",
            "('Akshay', 'Debashish', 'Shashank')\n",
            "('Akshay', 'Debashish', 'Raj')\n",
            "('Akshay', 'Debashish', 'Sudhanshu')\n",
            "('Akshay', 'Rohan', 'DILAVAR')\n",
            "('Akshay', 'Rohan', 'Chinmaya')\n",
            "('Akshay', 'Rohan', 'SATYA')\n",
            "('Akshay', 'Rohan', 'Mihir')\n",
            "('Akshay', 'Rohan', 'Vaideswar')\n",
            "('Akshay', 'Rohan', 'Suraj')\n",
            "('Akshay', 'Rohan', 'Shashank')\n",
            "('Akshay', 'Rohan', 'Raj')\n",
            "('Akshay', 'Rohan', 'Sudhanshu')\n",
            "('Akshay', 'DILAVAR', 'Chinmaya')\n",
            "('Akshay', 'DILAVAR', 'SATYA')\n",
            "('Akshay', 'DILAVAR', 'Mihir')\n",
            "('Akshay', 'DILAVAR', 'Vaideswar')\n",
            "('Akshay', 'DILAVAR', 'Suraj')\n",
            "('Akshay', 'DILAVAR', 'Shashank')\n",
            "('Akshay', 'DILAVAR', 'Raj')\n",
            "('Akshay', 'DILAVAR', 'Sudhanshu')\n",
            "('Akshay', 'Chinmaya', 'SATYA')\n",
            "('Akshay', 'Chinmaya', 'Mihir')\n",
            "('Akshay', 'Chinmaya', 'Vaideswar')\n",
            "('Akshay', 'Chinmaya', 'Suraj')\n",
            "('Akshay', 'Chinmaya', 'Shashank')\n",
            "('Akshay', 'Chinmaya', 'Raj')\n",
            "('Akshay', 'Chinmaya', 'Sudhanshu')\n",
            "('Akshay', 'SATYA', 'Mihir')\n",
            "('Akshay', 'SATYA', 'Vaideswar')\n",
            "('Akshay', 'SATYA', 'Suraj')\n",
            "('Akshay', 'SATYA', 'Shashank')\n",
            "('Akshay', 'SATYA', 'Raj')\n",
            "('Akshay', 'SATYA', 'Sudhanshu')\n",
            "('Akshay', 'Mihir', 'Vaideswar')\n",
            "('Akshay', 'Mihir', 'Suraj')\n",
            "('Akshay', 'Mihir', 'Shashank')\n",
            "('Akshay', 'Mihir', 'Raj')\n",
            "('Akshay', 'Mihir', 'Sudhanshu')\n",
            "('Akshay', 'Vaideswar', 'Suraj')\n",
            "('Akshay', 'Vaideswar', 'Shashank')\n",
            "('Akshay', 'Vaideswar', 'Raj')\n",
            "('Akshay', 'Vaideswar', 'Sudhanshu')\n",
            "('Akshay', 'Suraj', 'Shashank')\n",
            "('Akshay', 'Suraj', 'Raj')\n",
            "('Akshay', 'Suraj', 'Sudhanshu')\n",
            "('Akshay', 'Shashank', 'Raj')\n",
            "('Akshay', 'Shashank', 'Sudhanshu')\n",
            "('Akshay', 'Raj', 'Sudhanshu')\n",
            "('Monika', 'Soumya', 'HRUSHIKESH')\n",
            "('Monika', 'Soumya', 'Isha')\n",
            "('Monika', 'Soumya', 'DIVY')\n",
            "('Monika', 'Soumya', 'Sweety')\n",
            "('Monika', 'Soumya', 'YAGNIK')\n",
            "('Monika', 'Soumya', 'Debashish')\n",
            "('Monika', 'Soumya', 'Rohan')\n",
            "('Monika', 'Soumya', 'DILAVAR')\n",
            "('Monika', 'Soumya', 'Chinmaya')\n",
            "('Monika', 'Soumya', 'SATYA')\n",
            "('Monika', 'Soumya', 'Mihir')\n",
            "('Monika', 'Soumya', 'Vaideswar')\n",
            "('Monika', 'Soumya', 'Suraj')\n",
            "('Monika', 'Soumya', 'Shashank')\n",
            "('Monika', 'Soumya', 'Raj')\n",
            "('Monika', 'Soumya', 'Sudhanshu')\n",
            "('Monika', 'HRUSHIKESH', 'Isha')\n",
            "('Monika', 'HRUSHIKESH', 'DIVY')\n",
            "('Monika', 'HRUSHIKESH', 'Sweety')\n",
            "('Monika', 'HRUSHIKESH', 'YAGNIK')\n",
            "('Monika', 'HRUSHIKESH', 'Debashish')\n",
            "('Monika', 'HRUSHIKESH', 'Rohan')\n",
            "('Monika', 'HRUSHIKESH', 'DILAVAR')\n",
            "('Monika', 'HRUSHIKESH', 'Chinmaya')\n",
            "('Monika', 'HRUSHIKESH', 'SATYA')\n",
            "('Monika', 'HRUSHIKESH', 'Mihir')\n",
            "('Monika', 'HRUSHIKESH', 'Vaideswar')\n",
            "('Monika', 'HRUSHIKESH', 'Suraj')\n",
            "('Monika', 'HRUSHIKESH', 'Shashank')\n",
            "('Monika', 'HRUSHIKESH', 'Raj')\n",
            "('Monika', 'HRUSHIKESH', 'Sudhanshu')\n",
            "('Monika', 'Isha', 'DIVY')\n",
            "('Monika', 'Isha', 'Sweety')\n",
            "('Monika', 'Isha', 'YAGNIK')\n",
            "('Monika', 'Isha', 'Debashish')\n",
            "('Monika', 'Isha', 'Rohan')\n",
            "('Monika', 'Isha', 'DILAVAR')\n",
            "('Monika', 'Isha', 'Chinmaya')\n",
            "('Monika', 'Isha', 'SATYA')\n",
            "('Monika', 'Isha', 'Mihir')\n",
            "('Monika', 'Isha', 'Vaideswar')\n",
            "('Monika', 'Isha', 'Suraj')\n",
            "('Monika', 'Isha', 'Shashank')\n",
            "('Monika', 'Isha', 'Raj')\n",
            "('Monika', 'Isha', 'Sudhanshu')\n",
            "('Monika', 'DIVY', 'Sweety')\n",
            "('Monika', 'DIVY', 'YAGNIK')\n",
            "('Monika', 'DIVY', 'Debashish')\n",
            "('Monika', 'DIVY', 'Rohan')\n",
            "('Monika', 'DIVY', 'DILAVAR')\n",
            "('Monika', 'DIVY', 'Chinmaya')\n",
            "('Monika', 'DIVY', 'SATYA')\n",
            "('Monika', 'DIVY', 'Mihir')\n",
            "('Monika', 'DIVY', 'Vaideswar')\n",
            "('Monika', 'DIVY', 'Suraj')\n",
            "('Monika', 'DIVY', 'Shashank')\n",
            "('Monika', 'DIVY', 'Raj')\n",
            "('Monika', 'DIVY', 'Sudhanshu')\n",
            "('Monika', 'Sweety', 'YAGNIK')\n",
            "('Monika', 'Sweety', 'Debashish')\n",
            "('Monika', 'Sweety', 'Rohan')\n",
            "('Monika', 'Sweety', 'DILAVAR')\n",
            "('Monika', 'Sweety', 'Chinmaya')\n",
            "('Monika', 'Sweety', 'SATYA')\n",
            "('Monika', 'Sweety', 'Mihir')\n",
            "('Monika', 'Sweety', 'Vaideswar')\n",
            "('Monika', 'Sweety', 'Suraj')\n",
            "('Monika', 'Sweety', 'Shashank')\n",
            "('Monika', 'Sweety', 'Raj')\n",
            "('Monika', 'Sweety', 'Sudhanshu')\n",
            "('Monika', 'YAGNIK', 'Debashish')\n",
            "('Monika', 'YAGNIK', 'Rohan')\n",
            "('Monika', 'YAGNIK', 'DILAVAR')\n",
            "('Monika', 'YAGNIK', 'Chinmaya')\n",
            "('Monika', 'YAGNIK', 'SATYA')\n",
            "('Monika', 'YAGNIK', 'Mihir')\n",
            "('Monika', 'YAGNIK', 'Vaideswar')\n",
            "('Monika', 'YAGNIK', 'Suraj')\n",
            "('Monika', 'YAGNIK', 'Shashank')\n",
            "('Monika', 'YAGNIK', 'Raj')\n",
            "('Monika', 'YAGNIK', 'Sudhanshu')\n",
            "('Monika', 'Debashish', 'Rohan')\n",
            "('Monika', 'Debashish', 'DILAVAR')\n",
            "('Monika', 'Debashish', 'Chinmaya')\n",
            "('Monika', 'Debashish', 'SATYA')\n",
            "('Monika', 'Debashish', 'Mihir')\n",
            "('Monika', 'Debashish', 'Vaideswar')\n",
            "('Monika', 'Debashish', 'Suraj')\n",
            "('Monika', 'Debashish', 'Shashank')\n",
            "('Monika', 'Debashish', 'Raj')\n",
            "('Monika', 'Debashish', 'Sudhanshu')\n",
            "('Monika', 'Rohan', 'DILAVAR')\n",
            "('Monika', 'Rohan', 'Chinmaya')\n",
            "('Monika', 'Rohan', 'SATYA')\n",
            "('Monika', 'Rohan', 'Mihir')\n",
            "('Monika', 'Rohan', 'Vaideswar')\n",
            "('Monika', 'Rohan', 'Suraj')\n",
            "('Monika', 'Rohan', 'Shashank')\n",
            "('Monika', 'Rohan', 'Raj')\n",
            "('Monika', 'Rohan', 'Sudhanshu')\n",
            "('Monika', 'DILAVAR', 'Chinmaya')\n",
            "('Monika', 'DILAVAR', 'SATYA')\n",
            "('Monika', 'DILAVAR', 'Mihir')\n",
            "('Monika', 'DILAVAR', 'Vaideswar')\n",
            "('Monika', 'DILAVAR', 'Suraj')\n",
            "('Monika', 'DILAVAR', 'Shashank')\n",
            "('Monika', 'DILAVAR', 'Raj')\n",
            "('Monika', 'DILAVAR', 'Sudhanshu')\n",
            "('Monika', 'Chinmaya', 'SATYA')\n",
            "('Monika', 'Chinmaya', 'Mihir')\n",
            "('Monika', 'Chinmaya', 'Vaideswar')\n",
            "('Monika', 'Chinmaya', 'Suraj')\n",
            "('Monika', 'Chinmaya', 'Shashank')\n",
            "('Monika', 'Chinmaya', 'Raj')\n",
            "('Monika', 'Chinmaya', 'Sudhanshu')\n",
            "('Monika', 'SATYA', 'Mihir')\n",
            "('Monika', 'SATYA', 'Vaideswar')\n",
            "('Monika', 'SATYA', 'Suraj')\n",
            "('Monika', 'SATYA', 'Shashank')\n",
            "('Monika', 'SATYA', 'Raj')\n",
            "('Monika', 'SATYA', 'Sudhanshu')\n",
            "('Monika', 'Mihir', 'Vaideswar')\n",
            "('Monika', 'Mihir', 'Suraj')\n",
            "('Monika', 'Mihir', 'Shashank')\n",
            "('Monika', 'Mihir', 'Raj')\n",
            "('Monika', 'Mihir', 'Sudhanshu')\n",
            "('Monika', 'Vaideswar', 'Suraj')\n",
            "('Monika', 'Vaideswar', 'Shashank')\n",
            "('Monika', 'Vaideswar', 'Raj')\n",
            "('Monika', 'Vaideswar', 'Sudhanshu')\n",
            "('Monika', 'Suraj', 'Shashank')\n",
            "('Monika', 'Suraj', 'Raj')\n",
            "('Monika', 'Suraj', 'Sudhanshu')\n",
            "('Monika', 'Shashank', 'Raj')\n",
            "('Monika', 'Shashank', 'Sudhanshu')\n",
            "('Monika', 'Raj', 'Sudhanshu')\n",
            "('Soumya', 'HRUSHIKESH', 'Isha')\n",
            "('Soumya', 'HRUSHIKESH', 'DIVY')\n",
            "('Soumya', 'HRUSHIKESH', 'Sweety')\n",
            "('Soumya', 'HRUSHIKESH', 'YAGNIK')\n",
            "('Soumya', 'HRUSHIKESH', 'Debashish')\n",
            "('Soumya', 'HRUSHIKESH', 'Rohan')\n",
            "('Soumya', 'HRUSHIKESH', 'DILAVAR')\n",
            "('Soumya', 'HRUSHIKESH', 'Chinmaya')\n",
            "('Soumya', 'HRUSHIKESH', 'SATYA')\n",
            "('Soumya', 'HRUSHIKESH', 'Mihir')\n",
            "('Soumya', 'HRUSHIKESH', 'Vaideswar')\n",
            "('Soumya', 'HRUSHIKESH', 'Suraj')\n",
            "('Soumya', 'HRUSHIKESH', 'Shashank')\n",
            "('Soumya', 'HRUSHIKESH', 'Raj')\n",
            "('Soumya', 'HRUSHIKESH', 'Sudhanshu')\n",
            "('Soumya', 'Isha', 'DIVY')\n",
            "('Soumya', 'Isha', 'Sweety')\n",
            "('Soumya', 'Isha', 'YAGNIK')\n",
            "('Soumya', 'Isha', 'Debashish')\n",
            "('Soumya', 'Isha', 'Rohan')\n",
            "('Soumya', 'Isha', 'DILAVAR')\n",
            "('Soumya', 'Isha', 'Chinmaya')\n",
            "('Soumya', 'Isha', 'SATYA')\n",
            "('Soumya', 'Isha', 'Mihir')\n",
            "('Soumya', 'Isha', 'Vaideswar')\n",
            "('Soumya', 'Isha', 'Suraj')\n",
            "('Soumya', 'Isha', 'Shashank')\n",
            "('Soumya', 'Isha', 'Raj')\n",
            "('Soumya', 'Isha', 'Sudhanshu')\n",
            "('Soumya', 'DIVY', 'Sweety')\n",
            "('Soumya', 'DIVY', 'YAGNIK')\n",
            "('Soumya', 'DIVY', 'Debashish')\n",
            "('Soumya', 'DIVY', 'Rohan')\n",
            "('Soumya', 'DIVY', 'DILAVAR')\n",
            "('Soumya', 'DIVY', 'Chinmaya')\n",
            "('Soumya', 'DIVY', 'SATYA')\n",
            "('Soumya', 'DIVY', 'Mihir')\n",
            "('Soumya', 'DIVY', 'Vaideswar')\n",
            "('Soumya', 'DIVY', 'Suraj')\n",
            "('Soumya', 'DIVY', 'Shashank')\n",
            "('Soumya', 'DIVY', 'Raj')\n",
            "('Soumya', 'DIVY', 'Sudhanshu')\n",
            "('Soumya', 'Sweety', 'YAGNIK')\n",
            "('Soumya', 'Sweety', 'Debashish')\n",
            "('Soumya', 'Sweety', 'Rohan')\n",
            "('Soumya', 'Sweety', 'DILAVAR')\n",
            "('Soumya', 'Sweety', 'Chinmaya')\n",
            "('Soumya', 'Sweety', 'SATYA')\n",
            "('Soumya', 'Sweety', 'Mihir')\n",
            "('Soumya', 'Sweety', 'Vaideswar')\n",
            "('Soumya', 'Sweety', 'Suraj')\n",
            "('Soumya', 'Sweety', 'Shashank')\n",
            "('Soumya', 'Sweety', 'Raj')\n",
            "('Soumya', 'Sweety', 'Sudhanshu')\n",
            "('Soumya', 'YAGNIK', 'Debashish')\n",
            "('Soumya', 'YAGNIK', 'Rohan')\n",
            "('Soumya', 'YAGNIK', 'DILAVAR')\n",
            "('Soumya', 'YAGNIK', 'Chinmaya')\n",
            "('Soumya', 'YAGNIK', 'SATYA')\n",
            "('Soumya', 'YAGNIK', 'Mihir')\n",
            "('Soumya', 'YAGNIK', 'Vaideswar')\n",
            "('Soumya', 'YAGNIK', 'Suraj')\n",
            "('Soumya', 'YAGNIK', 'Shashank')\n",
            "('Soumya', 'YAGNIK', 'Raj')\n",
            "('Soumya', 'YAGNIK', 'Sudhanshu')\n",
            "('Soumya', 'Debashish', 'Rohan')\n",
            "('Soumya', 'Debashish', 'DILAVAR')\n",
            "('Soumya', 'Debashish', 'Chinmaya')\n",
            "('Soumya', 'Debashish', 'SATYA')\n",
            "('Soumya', 'Debashish', 'Mihir')\n",
            "('Soumya', 'Debashish', 'Vaideswar')\n",
            "('Soumya', 'Debashish', 'Suraj')\n",
            "('Soumya', 'Debashish', 'Shashank')\n",
            "('Soumya', 'Debashish', 'Raj')\n",
            "('Soumya', 'Debashish', 'Sudhanshu')\n",
            "('Soumya', 'Rohan', 'DILAVAR')\n",
            "('Soumya', 'Rohan', 'Chinmaya')\n",
            "('Soumya', 'Rohan', 'SATYA')\n",
            "('Soumya', 'Rohan', 'Mihir')\n",
            "('Soumya', 'Rohan', 'Vaideswar')\n",
            "('Soumya', 'Rohan', 'Suraj')\n",
            "('Soumya', 'Rohan', 'Shashank')\n",
            "('Soumya', 'Rohan', 'Raj')\n",
            "('Soumya', 'Rohan', 'Sudhanshu')\n",
            "('Soumya', 'DILAVAR', 'Chinmaya')\n",
            "('Soumya', 'DILAVAR', 'SATYA')\n",
            "('Soumya', 'DILAVAR', 'Mihir')\n",
            "('Soumya', 'DILAVAR', 'Vaideswar')\n",
            "('Soumya', 'DILAVAR', 'Suraj')\n",
            "('Soumya', 'DILAVAR', 'Shashank')\n",
            "('Soumya', 'DILAVAR', 'Raj')\n",
            "('Soumya', 'DILAVAR', 'Sudhanshu')\n",
            "('Soumya', 'Chinmaya', 'SATYA')\n",
            "('Soumya', 'Chinmaya', 'Mihir')\n",
            "('Soumya', 'Chinmaya', 'Vaideswar')\n",
            "('Soumya', 'Chinmaya', 'Suraj')\n",
            "('Soumya', 'Chinmaya', 'Shashank')\n",
            "('Soumya', 'Chinmaya', 'Raj')\n",
            "('Soumya', 'Chinmaya', 'Sudhanshu')\n",
            "('Soumya', 'SATYA', 'Mihir')\n",
            "('Soumya', 'SATYA', 'Vaideswar')\n",
            "('Soumya', 'SATYA', 'Suraj')\n",
            "('Soumya', 'SATYA', 'Shashank')\n",
            "('Soumya', 'SATYA', 'Raj')\n",
            "('Soumya', 'SATYA', 'Sudhanshu')\n",
            "('Soumya', 'Mihir', 'Vaideswar')\n",
            "('Soumya', 'Mihir', 'Suraj')\n",
            "('Soumya', 'Mihir', 'Shashank')\n",
            "('Soumya', 'Mihir', 'Raj')\n",
            "('Soumya', 'Mihir', 'Sudhanshu')\n",
            "('Soumya', 'Vaideswar', 'Suraj')\n",
            "('Soumya', 'Vaideswar', 'Shashank')\n",
            "('Soumya', 'Vaideswar', 'Raj')\n",
            "('Soumya', 'Vaideswar', 'Sudhanshu')\n",
            "('Soumya', 'Suraj', 'Shashank')\n",
            "('Soumya', 'Suraj', 'Raj')\n",
            "('Soumya', 'Suraj', 'Sudhanshu')\n",
            "('Soumya', 'Shashank', 'Raj')\n",
            "('Soumya', 'Shashank', 'Sudhanshu')\n",
            "('Soumya', 'Raj', 'Sudhanshu')\n",
            "('HRUSHIKESH', 'Isha', 'DIVY')\n",
            "('HRUSHIKESH', 'Isha', 'Sweety')\n",
            "('HRUSHIKESH', 'Isha', 'YAGNIK')\n",
            "('HRUSHIKESH', 'Isha', 'Debashish')\n",
            "('HRUSHIKESH', 'Isha', 'Rohan')\n",
            "('HRUSHIKESH', 'Isha', 'DILAVAR')\n",
            "('HRUSHIKESH', 'Isha', 'Chinmaya')\n",
            "('HRUSHIKESH', 'Isha', 'SATYA')\n",
            "('HRUSHIKESH', 'Isha', 'Mihir')\n",
            "('HRUSHIKESH', 'Isha', 'Vaideswar')\n",
            "('HRUSHIKESH', 'Isha', 'Suraj')\n",
            "('HRUSHIKESH', 'Isha', 'Shashank')\n",
            "('HRUSHIKESH', 'Isha', 'Raj')\n",
            "('HRUSHIKESH', 'Isha', 'Sudhanshu')\n",
            "('HRUSHIKESH', 'DIVY', 'Sweety')\n",
            "('HRUSHIKESH', 'DIVY', 'YAGNIK')\n",
            "('HRUSHIKESH', 'DIVY', 'Debashish')\n",
            "('HRUSHIKESH', 'DIVY', 'Rohan')\n",
            "('HRUSHIKESH', 'DIVY', 'DILAVAR')\n",
            "('HRUSHIKESH', 'DIVY', 'Chinmaya')\n",
            "('HRUSHIKESH', 'DIVY', 'SATYA')\n",
            "('HRUSHIKESH', 'DIVY', 'Mihir')\n",
            "('HRUSHIKESH', 'DIVY', 'Vaideswar')\n",
            "('HRUSHIKESH', 'DIVY', 'Suraj')\n",
            "('HRUSHIKESH', 'DIVY', 'Shashank')\n",
            "('HRUSHIKESH', 'DIVY', 'Raj')\n",
            "('HRUSHIKESH', 'DIVY', 'Sudhanshu')\n",
            "('HRUSHIKESH', 'Sweety', 'YAGNIK')\n",
            "('HRUSHIKESH', 'Sweety', 'Debashish')\n",
            "('HRUSHIKESH', 'Sweety', 'Rohan')\n",
            "('HRUSHIKESH', 'Sweety', 'DILAVAR')\n",
            "('HRUSHIKESH', 'Sweety', 'Chinmaya')\n",
            "('HRUSHIKESH', 'Sweety', 'SATYA')\n",
            "('HRUSHIKESH', 'Sweety', 'Mihir')\n",
            "('HRUSHIKESH', 'Sweety', 'Vaideswar')\n",
            "('HRUSHIKESH', 'Sweety', 'Suraj')\n",
            "('HRUSHIKESH', 'Sweety', 'Shashank')\n",
            "('HRUSHIKESH', 'Sweety', 'Raj')\n",
            "('HRUSHIKESH', 'Sweety', 'Sudhanshu')\n",
            "('HRUSHIKESH', 'YAGNIK', 'Debashish')\n",
            "('HRUSHIKESH', 'YAGNIK', 'Rohan')\n",
            "('HRUSHIKESH', 'YAGNIK', 'DILAVAR')\n",
            "('HRUSHIKESH', 'YAGNIK', 'Chinmaya')\n",
            "('HRUSHIKESH', 'YAGNIK', 'SATYA')\n",
            "('HRUSHIKESH', 'YAGNIK', 'Mihir')\n",
            "('HRUSHIKESH', 'YAGNIK', 'Vaideswar')\n",
            "('HRUSHIKESH', 'YAGNIK', 'Suraj')\n",
            "('HRUSHIKESH', 'YAGNIK', 'Shashank')\n",
            "('HRUSHIKESH', 'YAGNIK', 'Raj')\n",
            "('HRUSHIKESH', 'YAGNIK', 'Sudhanshu')\n",
            "('HRUSHIKESH', 'Debashish', 'Rohan')\n",
            "('HRUSHIKESH', 'Debashish', 'DILAVAR')\n",
            "('HRUSHIKESH', 'Debashish', 'Chinmaya')\n",
            "('HRUSHIKESH', 'Debashish', 'SATYA')\n",
            "('HRUSHIKESH', 'Debashish', 'Mihir')\n",
            "('HRUSHIKESH', 'Debashish', 'Vaideswar')\n",
            "('HRUSHIKESH', 'Debashish', 'Suraj')\n",
            "('HRUSHIKESH', 'Debashish', 'Shashank')\n",
            "('HRUSHIKESH', 'Debashish', 'Raj')\n",
            "('HRUSHIKESH', 'Debashish', 'Sudhanshu')\n",
            "('HRUSHIKESH', 'Rohan', 'DILAVAR')\n",
            "('HRUSHIKESH', 'Rohan', 'Chinmaya')\n",
            "('HRUSHIKESH', 'Rohan', 'SATYA')\n",
            "('HRUSHIKESH', 'Rohan', 'Mihir')\n",
            "('HRUSHIKESH', 'Rohan', 'Vaideswar')\n",
            "('HRUSHIKESH', 'Rohan', 'Suraj')\n",
            "('HRUSHIKESH', 'Rohan', 'Shashank')\n",
            "('HRUSHIKESH', 'Rohan', 'Raj')\n",
            "('HRUSHIKESH', 'Rohan', 'Sudhanshu')\n",
            "('HRUSHIKESH', 'DILAVAR', 'Chinmaya')\n",
            "('HRUSHIKESH', 'DILAVAR', 'SATYA')\n",
            "('HRUSHIKESH', 'DILAVAR', 'Mihir')\n",
            "('HRUSHIKESH', 'DILAVAR', 'Vaideswar')\n",
            "('HRUSHIKESH', 'DILAVAR', 'Suraj')\n",
            "('HRUSHIKESH', 'DILAVAR', 'Shashank')\n",
            "('HRUSHIKESH', 'DILAVAR', 'Raj')\n",
            "('HRUSHIKESH', 'DILAVAR', 'Sudhanshu')\n",
            "('HRUSHIKESH', 'Chinmaya', 'SATYA')\n",
            "('HRUSHIKESH', 'Chinmaya', 'Mihir')\n",
            "('HRUSHIKESH', 'Chinmaya', 'Vaideswar')\n",
            "('HRUSHIKESH', 'Chinmaya', 'Suraj')\n",
            "('HRUSHIKESH', 'Chinmaya', 'Shashank')\n",
            "('HRUSHIKESH', 'Chinmaya', 'Raj')\n",
            "('HRUSHIKESH', 'Chinmaya', 'Sudhanshu')\n",
            "('HRUSHIKESH', 'SATYA', 'Mihir')\n",
            "('HRUSHIKESH', 'SATYA', 'Vaideswar')\n",
            "('HRUSHIKESH', 'SATYA', 'Suraj')\n",
            "('HRUSHIKESH', 'SATYA', 'Shashank')\n",
            "('HRUSHIKESH', 'SATYA', 'Raj')\n",
            "('HRUSHIKESH', 'SATYA', 'Sudhanshu')\n",
            "('HRUSHIKESH', 'Mihir', 'Vaideswar')\n",
            "('HRUSHIKESH', 'Mihir', 'Suraj')\n",
            "('HRUSHIKESH', 'Mihir', 'Shashank')\n",
            "('HRUSHIKESH', 'Mihir', 'Raj')\n",
            "('HRUSHIKESH', 'Mihir', 'Sudhanshu')\n",
            "('HRUSHIKESH', 'Vaideswar', 'Suraj')\n",
            "('HRUSHIKESH', 'Vaideswar', 'Shashank')\n",
            "('HRUSHIKESH', 'Vaideswar', 'Raj')\n",
            "('HRUSHIKESH', 'Vaideswar', 'Sudhanshu')\n",
            "('HRUSHIKESH', 'Suraj', 'Shashank')\n",
            "('HRUSHIKESH', 'Suraj', 'Raj')\n",
            "('HRUSHIKESH', 'Suraj', 'Sudhanshu')\n",
            "('HRUSHIKESH', 'Shashank', 'Raj')\n",
            "('HRUSHIKESH', 'Shashank', 'Sudhanshu')\n",
            "('HRUSHIKESH', 'Raj', 'Sudhanshu')\n",
            "('Isha', 'DIVY', 'Sweety')\n",
            "('Isha', 'DIVY', 'YAGNIK')\n",
            "('Isha', 'DIVY', 'Debashish')\n",
            "('Isha', 'DIVY', 'Rohan')\n",
            "('Isha', 'DIVY', 'DILAVAR')\n",
            "('Isha', 'DIVY', 'Chinmaya')\n",
            "('Isha', 'DIVY', 'SATYA')\n",
            "('Isha', 'DIVY', 'Mihir')\n",
            "('Isha', 'DIVY', 'Vaideswar')\n",
            "('Isha', 'DIVY', 'Suraj')\n",
            "('Isha', 'DIVY', 'Shashank')\n",
            "('Isha', 'DIVY', 'Raj')\n",
            "('Isha', 'DIVY', 'Sudhanshu')\n",
            "('Isha', 'Sweety', 'YAGNIK')\n",
            "('Isha', 'Sweety', 'Debashish')\n",
            "('Isha', 'Sweety', 'Rohan')\n",
            "('Isha', 'Sweety', 'DILAVAR')\n",
            "('Isha', 'Sweety', 'Chinmaya')\n",
            "('Isha', 'Sweety', 'SATYA')\n",
            "('Isha', 'Sweety', 'Mihir')\n",
            "('Isha', 'Sweety', 'Vaideswar')\n",
            "('Isha', 'Sweety', 'Suraj')\n",
            "('Isha', 'Sweety', 'Shashank')\n",
            "('Isha', 'Sweety', 'Raj')\n",
            "('Isha', 'Sweety', 'Sudhanshu')\n",
            "('Isha', 'YAGNIK', 'Debashish')\n",
            "('Isha', 'YAGNIK', 'Rohan')\n",
            "('Isha', 'YAGNIK', 'DILAVAR')\n",
            "('Isha', 'YAGNIK', 'Chinmaya')\n",
            "('Isha', 'YAGNIK', 'SATYA')\n",
            "('Isha', 'YAGNIK', 'Mihir')\n",
            "('Isha', 'YAGNIK', 'Vaideswar')\n",
            "('Isha', 'YAGNIK', 'Suraj')\n",
            "('Isha', 'YAGNIK', 'Shashank')\n",
            "('Isha', 'YAGNIK', 'Raj')\n",
            "('Isha', 'YAGNIK', 'Sudhanshu')\n",
            "('Isha', 'Debashish', 'Rohan')\n",
            "('Isha', 'Debashish', 'DILAVAR')\n",
            "('Isha', 'Debashish', 'Chinmaya')\n",
            "('Isha', 'Debashish', 'SATYA')\n",
            "('Isha', 'Debashish', 'Mihir')\n",
            "('Isha', 'Debashish', 'Vaideswar')\n",
            "('Isha', 'Debashish', 'Suraj')\n",
            "('Isha', 'Debashish', 'Shashank')\n",
            "('Isha', 'Debashish', 'Raj')\n",
            "('Isha', 'Debashish', 'Sudhanshu')\n",
            "('Isha', 'Rohan', 'DILAVAR')\n",
            "('Isha', 'Rohan', 'Chinmaya')\n",
            "('Isha', 'Rohan', 'SATYA')\n",
            "('Isha', 'Rohan', 'Mihir')\n",
            "('Isha', 'Rohan', 'Vaideswar')\n",
            "('Isha', 'Rohan', 'Suraj')\n",
            "('Isha', 'Rohan', 'Shashank')\n",
            "('Isha', 'Rohan', 'Raj')\n",
            "('Isha', 'Rohan', 'Sudhanshu')\n",
            "('Isha', 'DILAVAR', 'Chinmaya')\n",
            "('Isha', 'DILAVAR', 'SATYA')\n",
            "('Isha', 'DILAVAR', 'Mihir')\n",
            "('Isha', 'DILAVAR', 'Vaideswar')\n",
            "('Isha', 'DILAVAR', 'Suraj')\n",
            "('Isha', 'DILAVAR', 'Shashank')\n",
            "('Isha', 'DILAVAR', 'Raj')\n",
            "('Isha', 'DILAVAR', 'Sudhanshu')\n",
            "('Isha', 'Chinmaya', 'SATYA')\n",
            "('Isha', 'Chinmaya', 'Mihir')\n",
            "('Isha', 'Chinmaya', 'Vaideswar')\n",
            "('Isha', 'Chinmaya', 'Suraj')\n",
            "('Isha', 'Chinmaya', 'Shashank')\n",
            "('Isha', 'Chinmaya', 'Raj')\n",
            "('Isha', 'Chinmaya', 'Sudhanshu')\n",
            "('Isha', 'SATYA', 'Mihir')\n",
            "('Isha', 'SATYA', 'Vaideswar')\n",
            "('Isha', 'SATYA', 'Suraj')\n",
            "('Isha', 'SATYA', 'Shashank')\n",
            "('Isha', 'SATYA', 'Raj')\n",
            "('Isha', 'SATYA', 'Sudhanshu')\n",
            "('Isha', 'Mihir', 'Vaideswar')\n",
            "('Isha', 'Mihir', 'Suraj')\n",
            "('Isha', 'Mihir', 'Shashank')\n",
            "('Isha', 'Mihir', 'Raj')\n",
            "('Isha', 'Mihir', 'Sudhanshu')\n",
            "('Isha', 'Vaideswar', 'Suraj')\n",
            "('Isha', 'Vaideswar', 'Shashank')\n",
            "('Isha', 'Vaideswar', 'Raj')\n",
            "('Isha', 'Vaideswar', 'Sudhanshu')\n",
            "('Isha', 'Suraj', 'Shashank')\n",
            "('Isha', 'Suraj', 'Raj')\n",
            "('Isha', 'Suraj', 'Sudhanshu')\n",
            "('Isha', 'Shashank', 'Raj')\n",
            "('Isha', 'Shashank', 'Sudhanshu')\n",
            "('Isha', 'Raj', 'Sudhanshu')\n",
            "('DIVY', 'Sweety', 'YAGNIK')\n",
            "('DIVY', 'Sweety', 'Debashish')\n",
            "('DIVY', 'Sweety', 'Rohan')\n",
            "('DIVY', 'Sweety', 'DILAVAR')\n",
            "('DIVY', 'Sweety', 'Chinmaya')\n",
            "('DIVY', 'Sweety', 'SATYA')\n",
            "('DIVY', 'Sweety', 'Mihir')\n",
            "('DIVY', 'Sweety', 'Vaideswar')\n",
            "('DIVY', 'Sweety', 'Suraj')\n",
            "('DIVY', 'Sweety', 'Shashank')\n",
            "('DIVY', 'Sweety', 'Raj')\n",
            "('DIVY', 'Sweety', 'Sudhanshu')\n",
            "('DIVY', 'YAGNIK', 'Debashish')\n",
            "('DIVY', 'YAGNIK', 'Rohan')\n",
            "('DIVY', 'YAGNIK', 'DILAVAR')\n",
            "('DIVY', 'YAGNIK', 'Chinmaya')\n",
            "('DIVY', 'YAGNIK', 'SATYA')\n",
            "('DIVY', 'YAGNIK', 'Mihir')\n",
            "('DIVY', 'YAGNIK', 'Vaideswar')\n",
            "('DIVY', 'YAGNIK', 'Suraj')\n",
            "('DIVY', 'YAGNIK', 'Shashank')\n",
            "('DIVY', 'YAGNIK', 'Raj')\n",
            "('DIVY', 'YAGNIK', 'Sudhanshu')\n",
            "('DIVY', 'Debashish', 'Rohan')\n",
            "('DIVY', 'Debashish', 'DILAVAR')\n",
            "('DIVY', 'Debashish', 'Chinmaya')\n",
            "('DIVY', 'Debashish', 'SATYA')\n",
            "('DIVY', 'Debashish', 'Mihir')\n",
            "('DIVY', 'Debashish', 'Vaideswar')\n",
            "('DIVY', 'Debashish', 'Suraj')\n",
            "('DIVY', 'Debashish', 'Shashank')\n",
            "('DIVY', 'Debashish', 'Raj')\n",
            "('DIVY', 'Debashish', 'Sudhanshu')\n",
            "('DIVY', 'Rohan', 'DILAVAR')\n",
            "('DIVY', 'Rohan', 'Chinmaya')\n",
            "('DIVY', 'Rohan', 'SATYA')\n",
            "('DIVY', 'Rohan', 'Mihir')\n",
            "('DIVY', 'Rohan', 'Vaideswar')\n",
            "('DIVY', 'Rohan', 'Suraj')\n",
            "('DIVY', 'Rohan', 'Shashank')\n",
            "('DIVY', 'Rohan', 'Raj')\n",
            "('DIVY', 'Rohan', 'Sudhanshu')\n",
            "('DIVY', 'DILAVAR', 'Chinmaya')\n",
            "('DIVY', 'DILAVAR', 'SATYA')\n",
            "('DIVY', 'DILAVAR', 'Mihir')\n",
            "('DIVY', 'DILAVAR', 'Vaideswar')\n",
            "('DIVY', 'DILAVAR', 'Suraj')\n",
            "('DIVY', 'DILAVAR', 'Shashank')\n",
            "('DIVY', 'DILAVAR', 'Raj')\n",
            "('DIVY', 'DILAVAR', 'Sudhanshu')\n",
            "('DIVY', 'Chinmaya', 'SATYA')\n",
            "('DIVY', 'Chinmaya', 'Mihir')\n",
            "('DIVY', 'Chinmaya', 'Vaideswar')\n",
            "('DIVY', 'Chinmaya', 'Suraj')\n",
            "('DIVY', 'Chinmaya', 'Shashank')\n",
            "('DIVY', 'Chinmaya', 'Raj')\n",
            "('DIVY', 'Chinmaya', 'Sudhanshu')\n",
            "('DIVY', 'SATYA', 'Mihir')\n",
            "('DIVY', 'SATYA', 'Vaideswar')\n",
            "('DIVY', 'SATYA', 'Suraj')\n",
            "('DIVY', 'SATYA', 'Shashank')\n",
            "('DIVY', 'SATYA', 'Raj')\n",
            "('DIVY', 'SATYA', 'Sudhanshu')\n",
            "('DIVY', 'Mihir', 'Vaideswar')\n",
            "('DIVY', 'Mihir', 'Suraj')\n",
            "('DIVY', 'Mihir', 'Shashank')\n",
            "('DIVY', 'Mihir', 'Raj')\n",
            "('DIVY', 'Mihir', 'Sudhanshu')\n",
            "('DIVY', 'Vaideswar', 'Suraj')\n",
            "('DIVY', 'Vaideswar', 'Shashank')\n",
            "('DIVY', 'Vaideswar', 'Raj')\n",
            "('DIVY', 'Vaideswar', 'Sudhanshu')\n",
            "('DIVY', 'Suraj', 'Shashank')\n",
            "('DIVY', 'Suraj', 'Raj')\n",
            "('DIVY', 'Suraj', 'Sudhanshu')\n",
            "('DIVY', 'Shashank', 'Raj')\n",
            "('DIVY', 'Shashank', 'Sudhanshu')\n",
            "('DIVY', 'Raj', 'Sudhanshu')\n",
            "('Sweety', 'YAGNIK', 'Debashish')\n",
            "('Sweety', 'YAGNIK', 'Rohan')\n",
            "('Sweety', 'YAGNIK', 'DILAVAR')\n",
            "('Sweety', 'YAGNIK', 'Chinmaya')\n",
            "('Sweety', 'YAGNIK', 'SATYA')\n",
            "('Sweety', 'YAGNIK', 'Mihir')\n",
            "('Sweety', 'YAGNIK', 'Vaideswar')\n",
            "('Sweety', 'YAGNIK', 'Suraj')\n",
            "('Sweety', 'YAGNIK', 'Shashank')\n",
            "('Sweety', 'YAGNIK', 'Raj')\n",
            "('Sweety', 'YAGNIK', 'Sudhanshu')\n",
            "('Sweety', 'Debashish', 'Rohan')\n",
            "('Sweety', 'Debashish', 'DILAVAR')\n",
            "('Sweety', 'Debashish', 'Chinmaya')\n",
            "('Sweety', 'Debashish', 'SATYA')\n",
            "('Sweety', 'Debashish', 'Mihir')\n",
            "('Sweety', 'Debashish', 'Vaideswar')\n",
            "('Sweety', 'Debashish', 'Suraj')\n",
            "('Sweety', 'Debashish', 'Shashank')\n",
            "('Sweety', 'Debashish', 'Raj')\n",
            "('Sweety', 'Debashish', 'Sudhanshu')\n",
            "('Sweety', 'Rohan', 'DILAVAR')\n",
            "('Sweety', 'Rohan', 'Chinmaya')\n",
            "('Sweety', 'Rohan', 'SATYA')\n",
            "('Sweety', 'Rohan', 'Mihir')\n",
            "('Sweety', 'Rohan', 'Vaideswar')\n",
            "('Sweety', 'Rohan', 'Suraj')\n",
            "('Sweety', 'Rohan', 'Shashank')\n",
            "('Sweety', 'Rohan', 'Raj')\n",
            "('Sweety', 'Rohan', 'Sudhanshu')\n",
            "('Sweety', 'DILAVAR', 'Chinmaya')\n",
            "('Sweety', 'DILAVAR', 'SATYA')\n",
            "('Sweety', 'DILAVAR', 'Mihir')\n",
            "('Sweety', 'DILAVAR', 'Vaideswar')\n",
            "('Sweety', 'DILAVAR', 'Suraj')\n",
            "('Sweety', 'DILAVAR', 'Shashank')\n",
            "('Sweety', 'DILAVAR', 'Raj')\n",
            "('Sweety', 'DILAVAR', 'Sudhanshu')\n",
            "('Sweety', 'Chinmaya', 'SATYA')\n",
            "('Sweety', 'Chinmaya', 'Mihir')\n",
            "('Sweety', 'Chinmaya', 'Vaideswar')\n",
            "('Sweety', 'Chinmaya', 'Suraj')\n",
            "('Sweety', 'Chinmaya', 'Shashank')\n",
            "('Sweety', 'Chinmaya', 'Raj')\n",
            "('Sweety', 'Chinmaya', 'Sudhanshu')\n",
            "('Sweety', 'SATYA', 'Mihir')\n",
            "('Sweety', 'SATYA', 'Vaideswar')\n",
            "('Sweety', 'SATYA', 'Suraj')\n",
            "('Sweety', 'SATYA', 'Shashank')\n",
            "('Sweety', 'SATYA', 'Raj')\n",
            "('Sweety', 'SATYA', 'Sudhanshu')\n",
            "('Sweety', 'Mihir', 'Vaideswar')\n",
            "('Sweety', 'Mihir', 'Suraj')\n",
            "('Sweety', 'Mihir', 'Shashank')\n",
            "('Sweety', 'Mihir', 'Raj')\n",
            "('Sweety', 'Mihir', 'Sudhanshu')\n",
            "('Sweety', 'Vaideswar', 'Suraj')\n",
            "('Sweety', 'Vaideswar', 'Shashank')\n",
            "('Sweety', 'Vaideswar', 'Raj')\n",
            "('Sweety', 'Vaideswar', 'Sudhanshu')\n",
            "('Sweety', 'Suraj', 'Shashank')\n",
            "('Sweety', 'Suraj', 'Raj')\n",
            "('Sweety', 'Suraj', 'Sudhanshu')\n",
            "('Sweety', 'Shashank', 'Raj')\n",
            "('Sweety', 'Shashank', 'Sudhanshu')\n",
            "('Sweety', 'Raj', 'Sudhanshu')\n",
            "('YAGNIK', 'Debashish', 'Rohan')\n",
            "('YAGNIK', 'Debashish', 'DILAVAR')\n",
            "('YAGNIK', 'Debashish', 'Chinmaya')\n",
            "('YAGNIK', 'Debashish', 'SATYA')\n",
            "('YAGNIK', 'Debashish', 'Mihir')\n",
            "('YAGNIK', 'Debashish', 'Vaideswar')\n",
            "('YAGNIK', 'Debashish', 'Suraj')\n",
            "('YAGNIK', 'Debashish', 'Shashank')\n",
            "('YAGNIK', 'Debashish', 'Raj')\n",
            "('YAGNIK', 'Debashish', 'Sudhanshu')\n",
            "('YAGNIK', 'Rohan', 'DILAVAR')\n",
            "('YAGNIK', 'Rohan', 'Chinmaya')\n",
            "('YAGNIK', 'Rohan', 'SATYA')\n",
            "('YAGNIK', 'Rohan', 'Mihir')\n",
            "('YAGNIK', 'Rohan', 'Vaideswar')\n",
            "('YAGNIK', 'Rohan', 'Suraj')\n",
            "('YAGNIK', 'Rohan', 'Shashank')\n",
            "('YAGNIK', 'Rohan', 'Raj')\n",
            "('YAGNIK', 'Rohan', 'Sudhanshu')\n",
            "('YAGNIK', 'DILAVAR', 'Chinmaya')\n",
            "('YAGNIK', 'DILAVAR', 'SATYA')\n",
            "('YAGNIK', 'DILAVAR', 'Mihir')\n",
            "('YAGNIK', 'DILAVAR', 'Vaideswar')\n",
            "('YAGNIK', 'DILAVAR', 'Suraj')\n",
            "('YAGNIK', 'DILAVAR', 'Shashank')\n",
            "('YAGNIK', 'DILAVAR', 'Raj')\n",
            "('YAGNIK', 'DILAVAR', 'Sudhanshu')\n",
            "('YAGNIK', 'Chinmaya', 'SATYA')\n",
            "('YAGNIK', 'Chinmaya', 'Mihir')\n",
            "('YAGNIK', 'Chinmaya', 'Vaideswar')\n",
            "('YAGNIK', 'Chinmaya', 'Suraj')\n",
            "('YAGNIK', 'Chinmaya', 'Shashank')\n",
            "('YAGNIK', 'Chinmaya', 'Raj')\n",
            "('YAGNIK', 'Chinmaya', 'Sudhanshu')\n",
            "('YAGNIK', 'SATYA', 'Mihir')\n",
            "('YAGNIK', 'SATYA', 'Vaideswar')\n",
            "('YAGNIK', 'SATYA', 'Suraj')\n",
            "('YAGNIK', 'SATYA', 'Shashank')\n",
            "('YAGNIK', 'SATYA', 'Raj')\n",
            "('YAGNIK', 'SATYA', 'Sudhanshu')\n",
            "('YAGNIK', 'Mihir', 'Vaideswar')\n",
            "('YAGNIK', 'Mihir', 'Suraj')\n",
            "('YAGNIK', 'Mihir', 'Shashank')\n",
            "('YAGNIK', 'Mihir', 'Raj')\n",
            "('YAGNIK', 'Mihir', 'Sudhanshu')\n",
            "('YAGNIK', 'Vaideswar', 'Suraj')\n",
            "('YAGNIK', 'Vaideswar', 'Shashank')\n",
            "('YAGNIK', 'Vaideswar', 'Raj')\n",
            "('YAGNIK', 'Vaideswar', 'Sudhanshu')\n",
            "('YAGNIK', 'Suraj', 'Shashank')\n",
            "('YAGNIK', 'Suraj', 'Raj')\n",
            "('YAGNIK', 'Suraj', 'Sudhanshu')\n",
            "('YAGNIK', 'Shashank', 'Raj')\n",
            "('YAGNIK', 'Shashank', 'Sudhanshu')\n",
            "('YAGNIK', 'Raj', 'Sudhanshu')\n",
            "('Debashish', 'Rohan', 'DILAVAR')\n",
            "('Debashish', 'Rohan', 'Chinmaya')\n",
            "('Debashish', 'Rohan', 'SATYA')\n",
            "('Debashish', 'Rohan', 'Mihir')\n",
            "('Debashish', 'Rohan', 'Vaideswar')\n",
            "('Debashish', 'Rohan', 'Suraj')\n",
            "('Debashish', 'Rohan', 'Shashank')\n",
            "('Debashish', 'Rohan', 'Raj')\n",
            "('Debashish', 'Rohan', 'Sudhanshu')\n",
            "('Debashish', 'DILAVAR', 'Chinmaya')\n",
            "('Debashish', 'DILAVAR', 'SATYA')\n",
            "('Debashish', 'DILAVAR', 'Mihir')\n",
            "('Debashish', 'DILAVAR', 'Vaideswar')\n",
            "('Debashish', 'DILAVAR', 'Suraj')\n",
            "('Debashish', 'DILAVAR', 'Shashank')\n",
            "('Debashish', 'DILAVAR', 'Raj')\n",
            "('Debashish', 'DILAVAR', 'Sudhanshu')\n",
            "('Debashish', 'Chinmaya', 'SATYA')\n",
            "('Debashish', 'Chinmaya', 'Mihir')\n",
            "('Debashish', 'Chinmaya', 'Vaideswar')\n",
            "('Debashish', 'Chinmaya', 'Suraj')\n",
            "('Debashish', 'Chinmaya', 'Shashank')\n",
            "('Debashish', 'Chinmaya', 'Raj')\n",
            "('Debashish', 'Chinmaya', 'Sudhanshu')\n",
            "('Debashish', 'SATYA', 'Mihir')\n",
            "('Debashish', 'SATYA', 'Vaideswar')\n",
            "('Debashish', 'SATYA', 'Suraj')\n",
            "('Debashish', 'SATYA', 'Shashank')\n",
            "('Debashish', 'SATYA', 'Raj')\n",
            "('Debashish', 'SATYA', 'Sudhanshu')\n",
            "('Debashish', 'Mihir', 'Vaideswar')\n",
            "('Debashish', 'Mihir', 'Suraj')\n",
            "('Debashish', 'Mihir', 'Shashank')\n",
            "('Debashish', 'Mihir', 'Raj')\n",
            "('Debashish', 'Mihir', 'Sudhanshu')\n",
            "('Debashish', 'Vaideswar', 'Suraj')\n",
            "('Debashish', 'Vaideswar', 'Shashank')\n",
            "('Debashish', 'Vaideswar', 'Raj')\n",
            "('Debashish', 'Vaideswar', 'Sudhanshu')\n",
            "('Debashish', 'Suraj', 'Shashank')\n",
            "('Debashish', 'Suraj', 'Raj')\n",
            "('Debashish', 'Suraj', 'Sudhanshu')\n",
            "('Debashish', 'Shashank', 'Raj')\n",
            "('Debashish', 'Shashank', 'Sudhanshu')\n",
            "('Debashish', 'Raj', 'Sudhanshu')\n",
            "('Rohan', 'DILAVAR', 'Chinmaya')\n",
            "('Rohan', 'DILAVAR', 'SATYA')\n",
            "('Rohan', 'DILAVAR', 'Mihir')\n",
            "('Rohan', 'DILAVAR', 'Vaideswar')\n",
            "('Rohan', 'DILAVAR', 'Suraj')\n",
            "('Rohan', 'DILAVAR', 'Shashank')\n",
            "('Rohan', 'DILAVAR', 'Raj')\n",
            "('Rohan', 'DILAVAR', 'Sudhanshu')\n",
            "('Rohan', 'Chinmaya', 'SATYA')\n",
            "('Rohan', 'Chinmaya', 'Mihir')\n",
            "('Rohan', 'Chinmaya', 'Vaideswar')\n",
            "('Rohan', 'Chinmaya', 'Suraj')\n",
            "('Rohan', 'Chinmaya', 'Shashank')\n",
            "('Rohan', 'Chinmaya', 'Raj')\n",
            "('Rohan', 'Chinmaya', 'Sudhanshu')\n",
            "('Rohan', 'SATYA', 'Mihir')\n",
            "('Rohan', 'SATYA', 'Vaideswar')\n",
            "('Rohan', 'SATYA', 'Suraj')\n",
            "('Rohan', 'SATYA', 'Shashank')\n",
            "('Rohan', 'SATYA', 'Raj')\n",
            "('Rohan', 'SATYA', 'Sudhanshu')\n",
            "('Rohan', 'Mihir', 'Vaideswar')\n",
            "('Rohan', 'Mihir', 'Suraj')\n",
            "('Rohan', 'Mihir', 'Shashank')\n",
            "('Rohan', 'Mihir', 'Raj')\n",
            "('Rohan', 'Mihir', 'Sudhanshu')\n",
            "('Rohan', 'Vaideswar', 'Suraj')\n",
            "('Rohan', 'Vaideswar', 'Shashank')\n",
            "('Rohan', 'Vaideswar', 'Raj')\n",
            "('Rohan', 'Vaideswar', 'Sudhanshu')\n",
            "('Rohan', 'Suraj', 'Shashank')\n",
            "('Rohan', 'Suraj', 'Raj')\n",
            "('Rohan', 'Suraj', 'Sudhanshu')\n",
            "('Rohan', 'Shashank', 'Raj')\n",
            "('Rohan', 'Shashank', 'Sudhanshu')\n",
            "('Rohan', 'Raj', 'Sudhanshu')\n",
            "('DILAVAR', 'Chinmaya', 'SATYA')\n",
            "('DILAVAR', 'Chinmaya', 'Mihir')\n",
            "('DILAVAR', 'Chinmaya', 'Vaideswar')\n",
            "('DILAVAR', 'Chinmaya', 'Suraj')\n",
            "('DILAVAR', 'Chinmaya', 'Shashank')\n",
            "('DILAVAR', 'Chinmaya', 'Raj')\n",
            "('DILAVAR', 'Chinmaya', 'Sudhanshu')\n",
            "('DILAVAR', 'SATYA', 'Mihir')\n",
            "('DILAVAR', 'SATYA', 'Vaideswar')\n",
            "('DILAVAR', 'SATYA', 'Suraj')\n",
            "('DILAVAR', 'SATYA', 'Shashank')\n",
            "('DILAVAR', 'SATYA', 'Raj')\n",
            "('DILAVAR', 'SATYA', 'Sudhanshu')\n",
            "('DILAVAR', 'Mihir', 'Vaideswar')\n",
            "('DILAVAR', 'Mihir', 'Suraj')\n",
            "('DILAVAR', 'Mihir', 'Shashank')\n",
            "('DILAVAR', 'Mihir', 'Raj')\n",
            "('DILAVAR', 'Mihir', 'Sudhanshu')\n",
            "('DILAVAR', 'Vaideswar', 'Suraj')\n",
            "('DILAVAR', 'Vaideswar', 'Shashank')\n",
            "('DILAVAR', 'Vaideswar', 'Raj')\n",
            "('DILAVAR', 'Vaideswar', 'Sudhanshu')\n",
            "('DILAVAR', 'Suraj', 'Shashank')\n",
            "('DILAVAR', 'Suraj', 'Raj')\n",
            "('DILAVAR', 'Suraj', 'Sudhanshu')\n",
            "('DILAVAR', 'Shashank', 'Raj')\n",
            "('DILAVAR', 'Shashank', 'Sudhanshu')\n",
            "('DILAVAR', 'Raj', 'Sudhanshu')\n",
            "('Chinmaya', 'SATYA', 'Mihir')\n",
            "('Chinmaya', 'SATYA', 'Vaideswar')\n",
            "('Chinmaya', 'SATYA', 'Suraj')\n",
            "('Chinmaya', 'SATYA', 'Shashank')\n",
            "('Chinmaya', 'SATYA', 'Raj')\n",
            "('Chinmaya', 'SATYA', 'Sudhanshu')\n",
            "('Chinmaya', 'Mihir', 'Vaideswar')\n",
            "('Chinmaya', 'Mihir', 'Suraj')\n",
            "('Chinmaya', 'Mihir', 'Shashank')\n",
            "('Chinmaya', 'Mihir', 'Raj')\n",
            "('Chinmaya', 'Mihir', 'Sudhanshu')\n",
            "('Chinmaya', 'Vaideswar', 'Suraj')\n",
            "('Chinmaya', 'Vaideswar', 'Shashank')\n",
            "('Chinmaya', 'Vaideswar', 'Raj')\n",
            "('Chinmaya', 'Vaideswar', 'Sudhanshu')\n",
            "('Chinmaya', 'Suraj', 'Shashank')\n",
            "('Chinmaya', 'Suraj', 'Raj')\n",
            "('Chinmaya', 'Suraj', 'Sudhanshu')\n",
            "('Chinmaya', 'Shashank', 'Raj')\n",
            "('Chinmaya', 'Shashank', 'Sudhanshu')\n",
            "('Chinmaya', 'Raj', 'Sudhanshu')\n",
            "('SATYA', 'Mihir', 'Vaideswar')\n",
            "('SATYA', 'Mihir', 'Suraj')\n",
            "('SATYA', 'Mihir', 'Shashank')\n",
            "('SATYA', 'Mihir', 'Raj')\n",
            "('SATYA', 'Mihir', 'Sudhanshu')\n",
            "('SATYA', 'Vaideswar', 'Suraj')\n",
            "('SATYA', 'Vaideswar', 'Shashank')\n",
            "('SATYA', 'Vaideswar', 'Raj')\n",
            "('SATYA', 'Vaideswar', 'Sudhanshu')\n",
            "('SATYA', 'Suraj', 'Shashank')\n",
            "('SATYA', 'Suraj', 'Raj')\n",
            "('SATYA', 'Suraj', 'Sudhanshu')\n",
            "('SATYA', 'Shashank', 'Raj')\n",
            "('SATYA', 'Shashank', 'Sudhanshu')\n",
            "('SATYA', 'Raj', 'Sudhanshu')\n",
            "('Mihir', 'Vaideswar', 'Suraj')\n",
            "('Mihir', 'Vaideswar', 'Shashank')\n",
            "('Mihir', 'Vaideswar', 'Raj')\n",
            "('Mihir', 'Vaideswar', 'Sudhanshu')\n",
            "('Mihir', 'Suraj', 'Shashank')\n",
            "('Mihir', 'Suraj', 'Raj')\n",
            "('Mihir', 'Suraj', 'Sudhanshu')\n",
            "('Mihir', 'Shashank', 'Raj')\n",
            "('Mihir', 'Shashank', 'Sudhanshu')\n",
            "('Mihir', 'Raj', 'Sudhanshu')\n",
            "('Vaideswar', 'Suraj', 'Shashank')\n",
            "('Vaideswar', 'Suraj', 'Raj')\n",
            "('Vaideswar', 'Suraj', 'Sudhanshu')\n",
            "('Vaideswar', 'Shashank', 'Raj')\n",
            "('Vaideswar', 'Shashank', 'Sudhanshu')\n",
            "('Vaideswar', 'Raj', 'Sudhanshu')\n",
            "('Suraj', 'Shashank', 'Raj')\n",
            "('Suraj', 'Shashank', 'Sudhanshu')\n",
            "('Suraj', 'Raj', 'Sudhanshu')\n",
            "('Shashank', 'Raj', 'Sudhanshu')\n"
          ]
        }
      ]
    },
    {
      "cell_type": "markdown",
      "metadata": {
        "id": "78QuKk49G9Kw"
      },
      "source": [
        "In any team, we don't want more than 1 student from the top 8 students."
      ]
    },
    {
      "cell_type": "code",
      "metadata": {
        "id": "zNnJ4yAcFSb_"
      },
      "source": [
        "top_8 = {'Chinmaya', 'Debashish', 'HRUSHIKESH', 'Isha',\n",
        "         'YAGNIK', 'Raj', 'Rohan', 'Sudhanshu'}"
      ],
      "execution_count": null,
      "outputs": []
    },
    {
      "cell_type": "code",
      "metadata": {
        "id": "nQ_xMJvMIqlR"
      },
      "source": [
        "remaining = students - top_8"
      ],
      "execution_count": null,
      "outputs": []
    },
    {
      "cell_type": "code",
      "metadata": {
        "id": "bYSG_M9LIx5n",
        "outputId": "17531853-71db-488d-f269-27501722f6da",
        "colab": {
          "base_uri": "https://localhost:8080/"
        }
      },
      "source": [
        "remaining"
      ],
      "execution_count": null,
      "outputs": [
        {
          "output_type": "execute_result",
          "data": {
            "text/plain": [
              "{'Akshay',\n",
              " 'DILAVAR',\n",
              " 'DIVY',\n",
              " 'Kartikey',\n",
              " 'Mihir',\n",
              " 'Monika',\n",
              " 'Nishant',\n",
              " 'Pranav',\n",
              " 'RAJESH',\n",
              " 'SATYA',\n",
              " 'Shashank',\n",
              " 'Soumya',\n",
              " 'Suraj',\n",
              " 'Sweety',\n",
              " 'Vaideswar',\n",
              " 'Vanshika'}"
            ]
          },
          "metadata": {
            "tags": []
          },
          "execution_count": 97
        }
      ]
    },
    {
      "cell_type": "code",
      "metadata": {
        "id": "yI1vVG1YII6p",
        "outputId": "32b83ab3-9a19-4575-d4b8-7252538f37ef",
        "colab": {
          "base_uri": "https://localhost:8080/"
        }
      },
      "source": [
        "C(16, 2)"
      ],
      "execution_count": null,
      "outputs": [
        {
          "output_type": "execute_result",
          "data": {
            "text/plain": [
              "120"
            ]
          },
          "metadata": {
            "tags": []
          },
          "execution_count": 98
        }
      ]
    },
    {
      "cell_type": "code",
      "metadata": {
        "id": "klCEJcONIoP7",
        "outputId": "d2c6d31a-90d2-4464-eef9-b027bc23ed50",
        "colab": {
          "base_uri": "https://localhost:8080/"
        }
      },
      "source": [
        "seq = combinations(remaining, 2)\n",
        "\n",
        "for p in list(seq):\n",
        "   print(p)"
      ],
      "execution_count": null,
      "outputs": [
        {
          "output_type": "stream",
          "text": [
            "('Vanshika', 'RAJESH')\n",
            "('Vanshika', 'DILAVAR')\n",
            "('Vanshika', 'Suraj')\n",
            "('Vanshika', 'Nishant')\n",
            "('Vanshika', 'Kartikey')\n",
            "('Vanshika', 'Pranav')\n",
            "('Vanshika', 'Vaideswar')\n",
            "('Vanshika', 'Shashank')\n",
            "('Vanshika', 'Sweety')\n",
            "('Vanshika', 'Monika')\n",
            "('Vanshika', 'SATYA')\n",
            "('Vanshika', 'Akshay')\n",
            "('Vanshika', 'DIVY')\n",
            "('Vanshika', 'Soumya')\n",
            "('Vanshika', 'Mihir')\n",
            "('RAJESH', 'DILAVAR')\n",
            "('RAJESH', 'Suraj')\n",
            "('RAJESH', 'Nishant')\n",
            "('RAJESH', 'Kartikey')\n",
            "('RAJESH', 'Pranav')\n",
            "('RAJESH', 'Vaideswar')\n",
            "('RAJESH', 'Shashank')\n",
            "('RAJESH', 'Sweety')\n",
            "('RAJESH', 'Monika')\n",
            "('RAJESH', 'SATYA')\n",
            "('RAJESH', 'Akshay')\n",
            "('RAJESH', 'DIVY')\n",
            "('RAJESH', 'Soumya')\n",
            "('RAJESH', 'Mihir')\n",
            "('DILAVAR', 'Suraj')\n",
            "('DILAVAR', 'Nishant')\n",
            "('DILAVAR', 'Kartikey')\n",
            "('DILAVAR', 'Pranav')\n",
            "('DILAVAR', 'Vaideswar')\n",
            "('DILAVAR', 'Shashank')\n",
            "('DILAVAR', 'Sweety')\n",
            "('DILAVAR', 'Monika')\n",
            "('DILAVAR', 'SATYA')\n",
            "('DILAVAR', 'Akshay')\n",
            "('DILAVAR', 'DIVY')\n",
            "('DILAVAR', 'Soumya')\n",
            "('DILAVAR', 'Mihir')\n",
            "('Suraj', 'Nishant')\n",
            "('Suraj', 'Kartikey')\n",
            "('Suraj', 'Pranav')\n",
            "('Suraj', 'Vaideswar')\n",
            "('Suraj', 'Shashank')\n",
            "('Suraj', 'Sweety')\n",
            "('Suraj', 'Monika')\n",
            "('Suraj', 'SATYA')\n",
            "('Suraj', 'Akshay')\n",
            "('Suraj', 'DIVY')\n",
            "('Suraj', 'Soumya')\n",
            "('Suraj', 'Mihir')\n",
            "('Nishant', 'Kartikey')\n",
            "('Nishant', 'Pranav')\n",
            "('Nishant', 'Vaideswar')\n",
            "('Nishant', 'Shashank')\n",
            "('Nishant', 'Sweety')\n",
            "('Nishant', 'Monika')\n",
            "('Nishant', 'SATYA')\n",
            "('Nishant', 'Akshay')\n",
            "('Nishant', 'DIVY')\n",
            "('Nishant', 'Soumya')\n",
            "('Nishant', 'Mihir')\n",
            "('Kartikey', 'Pranav')\n",
            "('Kartikey', 'Vaideswar')\n",
            "('Kartikey', 'Shashank')\n",
            "('Kartikey', 'Sweety')\n",
            "('Kartikey', 'Monika')\n",
            "('Kartikey', 'SATYA')\n",
            "('Kartikey', 'Akshay')\n",
            "('Kartikey', 'DIVY')\n",
            "('Kartikey', 'Soumya')\n",
            "('Kartikey', 'Mihir')\n",
            "('Pranav', 'Vaideswar')\n",
            "('Pranav', 'Shashank')\n",
            "('Pranav', 'Sweety')\n",
            "('Pranav', 'Monika')\n",
            "('Pranav', 'SATYA')\n",
            "('Pranav', 'Akshay')\n",
            "('Pranav', 'DIVY')\n",
            "('Pranav', 'Soumya')\n",
            "('Pranav', 'Mihir')\n",
            "('Vaideswar', 'Shashank')\n",
            "('Vaideswar', 'Sweety')\n",
            "('Vaideswar', 'Monika')\n",
            "('Vaideswar', 'SATYA')\n",
            "('Vaideswar', 'Akshay')\n",
            "('Vaideswar', 'DIVY')\n",
            "('Vaideswar', 'Soumya')\n",
            "('Vaideswar', 'Mihir')\n",
            "('Shashank', 'Sweety')\n",
            "('Shashank', 'Monika')\n",
            "('Shashank', 'SATYA')\n",
            "('Shashank', 'Akshay')\n",
            "('Shashank', 'DIVY')\n",
            "('Shashank', 'Soumya')\n",
            "('Shashank', 'Mihir')\n",
            "('Sweety', 'Monika')\n",
            "('Sweety', 'SATYA')\n",
            "('Sweety', 'Akshay')\n",
            "('Sweety', 'DIVY')\n",
            "('Sweety', 'Soumya')\n",
            "('Sweety', 'Mihir')\n",
            "('Monika', 'SATYA')\n",
            "('Monika', 'Akshay')\n",
            "('Monika', 'DIVY')\n",
            "('Monika', 'Soumya')\n",
            "('Monika', 'Mihir')\n",
            "('SATYA', 'Akshay')\n",
            "('SATYA', 'DIVY')\n",
            "('SATYA', 'Soumya')\n",
            "('SATYA', 'Mihir')\n",
            "('Akshay', 'DIVY')\n",
            "('Akshay', 'Soumya')\n",
            "('Akshay', 'Mihir')\n",
            "('DIVY', 'Soumya')\n",
            "('DIVY', 'Mihir')\n",
            "('Soumya', 'Mihir')\n"
          ],
          "name": "stdout"
        }
      ]
    },
    {
      "cell_type": "markdown",
      "metadata": {
        "id": "dU5T0PmhORpU"
      },
      "source": [
        "# Probability Basics Examples"
      ]
    },
    {
      "cell_type": "code",
      "metadata": {
        "id": "ZaHikVuGORC3"
      },
      "source": [
        "U = {1, 2, 3, 4, 5, 6, 7, 8, 9, 10}"
      ],
      "execution_count": null,
      "outputs": []
    },
    {
      "cell_type": "code",
      "metadata": {
        "id": "0UlS8AstI7k1"
      },
      "source": [
        "A = {1, 2, 3, 4, 5}\n",
        "B = {2, 4, 6, 8, 10}\n",
        "C = {1, 3, 5, 7, 9}"
      ],
      "execution_count": null,
      "outputs": []
    },
    {
      "cell_type": "code",
      "metadata": {
        "id": "sLG7dazPio9-"
      },
      "source": [
        "P_A = len(A)/len(U)"
      ],
      "execution_count": null,
      "outputs": []
    },
    {
      "cell_type": "code",
      "metadata": {
        "id": "RROE_X0vitT6",
        "outputId": "efa4f070-d6bd-4ba1-f240-30c7cf10c640",
        "colab": {
          "base_uri": "https://localhost:8080/"
        }
      },
      "source": [
        "P_A"
      ],
      "execution_count": null,
      "outputs": [
        {
          "output_type": "execute_result",
          "data": {
            "text/plain": [
              "0.5"
            ]
          },
          "metadata": {},
          "execution_count": 38
        }
      ]
    },
    {
      "cell_type": "code",
      "metadata": {
        "id": "aVHXL9gDioEj",
        "outputId": "556ce23c-c30a-471b-d470-df5a29252679",
        "colab": {
          "base_uri": "https://localhost:8080/"
        }
      },
      "source": [
        "A.intersection(B)"
      ],
      "execution_count": null,
      "outputs": [
        {
          "output_type": "execute_result",
          "data": {
            "text/plain": [
              "{2, 4}"
            ]
          },
          "metadata": {},
          "execution_count": 39
        }
      ]
    },
    {
      "cell_type": "code",
      "metadata": {
        "id": "5gpFQo9Mi09b"
      },
      "source": [
        "P_A_int_B = len(A.intersection(B))/len(U)"
      ],
      "execution_count": null,
      "outputs": []
    },
    {
      "cell_type": "code",
      "metadata": {
        "id": "6U42CP58i9za",
        "outputId": "d9a5444e-3809-4fdd-9544-3774665c2a27",
        "colab": {
          "base_uri": "https://localhost:8080/"
        }
      },
      "source": [
        "P_A_int_B"
      ],
      "execution_count": null,
      "outputs": [
        {
          "output_type": "execute_result",
          "data": {
            "text/plain": [
              "0.2"
            ]
          },
          "metadata": {},
          "execution_count": 41
        }
      ]
    },
    {
      "cell_type": "code",
      "metadata": {
        "id": "ebV5ZMmpi-7Y"
      },
      "source": [
        "S = {1, 2, 3, 4, 5, 6}"
      ],
      "execution_count": null,
      "outputs": []
    },
    {
      "cell_type": "code",
      "metadata": {
        "id": "B3kjvftZFqFq"
      },
      "source": [
        "A = {1, 3, 5}"
      ],
      "execution_count": null,
      "outputs": []
    },
    {
      "cell_type": "code",
      "metadata": {
        "id": "uCoFzcDlFrtE"
      },
      "source": [
        "B = {4, 5, 6}"
      ],
      "execution_count": null,
      "outputs": []
    },
    {
      "cell_type": "code",
      "metadata": {
        "id": "GKbXKIM7FucS",
        "outputId": "853e1d7b-e779-4f08-c0fb-fb1429d8930d",
        "colab": {
          "base_uri": "https://localhost:8080/"
        }
      },
      "source": [
        "A.union(B)"
      ],
      "execution_count": null,
      "outputs": [
        {
          "output_type": "execute_result",
          "data": {
            "text/plain": [
              "{1, 3, 4, 5, 6}"
            ]
          },
          "metadata": {},
          "execution_count": 45
        }
      ]
    },
    {
      "cell_type": "code",
      "metadata": {
        "id": "ioyGPiPAFwlB",
        "outputId": "ad82e0fd-b61c-4c3a-e478-7edb971a59c0",
        "colab": {
          "base_uri": "https://localhost:8080/"
        }
      },
      "source": [
        "A.intersection(B)"
      ],
      "execution_count": null,
      "outputs": [
        {
          "output_type": "execute_result",
          "data": {
            "text/plain": [
              "{5}"
            ]
          },
          "metadata": {
            "tags": []
          },
          "execution_count": 104
        }
      ]
    },
    {
      "cell_type": "code",
      "metadata": {
        "id": "ohlJ3sq3F0OU"
      },
      "source": [
        "#P(A U B) = P(A) + P(B) - P(A int B)"
      ],
      "execution_count": null,
      "outputs": []
    },
    {
      "cell_type": "code",
      "metadata": {
        "id": "GHjLcG3LF7yA"
      },
      "source": [
        "#Area 1: 1, 3\n",
        "\n",
        "#Area 2: 5\n",
        "\n",
        "#Area 3: 4, 6"
      ],
      "execution_count": null,
      "outputs": []
    },
    {
      "cell_type": "code",
      "metadata": {
        "id": "HQ3jsDi1GlYc"
      },
      "source": [
        "#P(A) = Area 1 + Area 2\n",
        "#P(B) = Area 2 + Area 3\n",
        "#P(A int B) = Area 2\n",
        "#P(A U B) = Area 1 + Area 2 + Area 3"
      ],
      "execution_count": null,
      "outputs": []
    },
    {
      "cell_type": "markdown",
      "metadata": {
        "id": "JDsdx6479ftw"
      },
      "source": [
        "# Bayes' Theorem Example"
      ]
    },
    {
      "cell_type": "markdown",
      "metadata": {
        "id": "2wudU2HV9sRd"
      },
      "source": [
        "The punctuality of trains has been investigated by considering a number of train\n",
        "journeys. In the sample, 60% of trains had a destination of Manchester, 20%\n",
        "Birmingham and 20% Edinburgh. The probabilities of a train arriving late in\n",
        "Manchester, Edinburgh or Birmingham are 30%, 20% and 25% respectively.\n",
        "\n",
        "If a late train is picked at random from the group under consideration, what is the\n",
        "probability that it terminated in Manchester?"
      ]
    },
    {
      "cell_type": "markdown",
      "source": [
        "What is the probability of a train to terminate in Edinburgh given its late ?"
      ],
      "metadata": {
        "id": "JPoX7xW6qpaE"
      }
    },
    {
      "cell_type": "markdown",
      "source": [
        "Numerator / Denominator\n",
        "(late in machester) * P(M)/ (P(L/M)* P(M) + P(L/E) *P(E) + P(L/B) *P(B))"
      ],
      "metadata": {
        "id": "__BXRA3YpnGK"
      }
    },
    {
      "cell_type": "markdown",
      "source": [
        "![image.png](data:image/png;base64,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)"
      ],
      "metadata": {
        "id": "0uwFG2cis51Z"
      }
    },
    {
      "cell_type": "markdown",
      "metadata": {
        "id": "gEWOzmNB9KcI"
      },
      "source": [
        "### M = event that the train has the destination Manchester\n",
        "### B = event that the train has the destination Birmingham\n",
        "### E = event that the train has the destination Edinburgh\n",
        "### L = event that the train arrived late\n",
        "\n",
        "P(M) = 0.6\n",
        "P(B) = 0.2\n",
        "P(E) = 0.2\n",
        "\n",
        "P(L|M) = 0.3\n",
        "P(L|B) = 0.25\n",
        "P(L|E) = 0.2\n",
        "\n",
        "P(M|L) = ?\n",
        "\n",
        "P(M|L) = [P(L|M)*P(M)]/([P(L|M)*P(M)] + [P(L|B)*P(B)] + [P(L|E)*P(E)])\n",
        "\n",
        "P(M|L) = (0.3*0.6) / (0.3*0.6 + 0.25*0.2 + 0.2*0.2) ="
      ]
    },
    {
      "cell_type": "code",
      "metadata": {
        "id": "VVsoXOQx91zB",
        "outputId": "f713ba30-2eb8-4140-8229-5f61fd1a5c6b",
        "colab": {
          "base_uri": "https://localhost:8080/"
        }
      },
      "source": [
        "# P(E|L)\n",
        "print(f'The probability of destination to be edinburgh given late is {round((0.20 * .2) / (0.30 * .6 + 0.25* 0.2 + 0.2 *0.2),3)}')"
      ],
      "execution_count": null,
      "outputs": [
        {
          "output_type": "stream",
          "name": "stdout",
          "text": [
            "The probability of destination to be edinburgh given late is 0.148\n"
          ]
        }
      ]
    },
    {
      "cell_type": "code",
      "metadata": {
        "id": "wg_PwojN91d9"
      },
      "source": [],
      "execution_count": null,
      "outputs": []
    },
    {
      "cell_type": "code",
      "metadata": {
        "id": "pFroEZoF-e1v"
      },
      "source": [],
      "execution_count": null,
      "outputs": []
    },
    {
      "cell_type": "code",
      "metadata": {
        "id": "q7EPEqJ2-erO"
      },
      "source": [],
      "execution_count": null,
      "outputs": []
    },
    {
      "cell_type": "code",
      "source": [
        "My random variable = # of people visiting Phoenix mall\n",
        "\n",
        "[0,Inf) - closed and open set; 0 is included\n",
        " (0,Inf) - open and open set - 0 is not included; all real numbers between 0 and inf\n",
        " [0,10] - closed set between 0 and 10; both 0 and 10 are included; all real numbers 0 and 10 including both of them\n",
        " {0,10} - only two values"
      ],
      "metadata": {
        "id": "g-tjyF0uavAR"
      },
      "execution_count": null,
      "outputs": []
    },
    {
      "cell_type": "markdown",
      "source": [
        "### DIstribution of our random variable"
      ],
      "metadata": {
        "id": "rqVOdCnabk8u"
      }
    },
    {
      "cell_type": "code",
      "source": [
        "# Dis\n",
        "X = # of people visiting Phoenix mall every day\n",
        "X = range(0,100000)"
      ],
      "metadata": {
        "id": "-0nc7CF7bjX2"
      },
      "execution_count": null,
      "outputs": []
    },
    {
      "cell_type": "code",
      "source": [
        "X(day = today) = 29732 visitors\n",
        "X(day = 1st Jan, 2022) = 51095 visitors\n",
        "X(3rd Feb,2024) = ?"
      ],
      "metadata": {
        "id": "w52CWR4vb7NX"
      },
      "execution_count": null,
      "outputs": []
    },
    {
      "cell_type": "code",
      "source": [
        "# Dataset of people visiting Phoenix mall\n",
        "\n",
        "VisitorId | Visitor Name | Visitor Email | Visit Timestamp| Visitor Address | Gender | isParking | Visit Month\n"
      ],
      "metadata": {
        "id": "Ed5OKaaCcpcU"
      },
      "execution_count": null,
      "outputs": []
    },
    {
      "cell_type": "code",
      "source": [
        "# What is the distribution of people visiting Phoenix mall every month\n",
        "X(Jan-2021) = 30876\n",
        "X(Feb-2021) ="
      ],
      "metadata": {
        "id": "cN-z9L6MdkkO"
      },
      "execution_count": null,
      "outputs": []
    }
  ]
}